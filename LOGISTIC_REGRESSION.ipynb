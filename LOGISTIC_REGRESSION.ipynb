{
  "cells": [
    {
      "cell_type": "markdown",
      "metadata": {
        "id": "view-in-github",
        "colab_type": "text"
      },
      "source": [
        "<a href=\"https://colab.research.google.com/github/NIKITA0509-I/LOGISTIC-REGRESSION/blob/main/LOGISTIC_REGRESSION.ipynb\" target=\"_parent\"><img src=\"https://colab.research.google.com/assets/colab-badge.svg\" alt=\"Open In Colab\"/></a>"
      ]
    },
    {
      "cell_type": "code",
      "execution_count": 1,
      "metadata": {
        "id": "ZwOO9i_QZr78"
      },
      "outputs": [],
      "source": [
        "\n",
        "# Data Preprocessing\n",
        "# Importing the libraries\n",
        "import numpy as np\n",
        "import matplotlib.pyplot as plt\n",
        "import pandas as pd"
      ]
    },
    {
      "cell_type": "code",
      "execution_count": 2,
      "metadata": {
        "id": "A4Qo-Jl2aG_j",
        "colab": {
          "base_uri": "https://localhost:8080/"
        },
        "outputId": "b4195daa-c254-40db-fd90-6498c10d22f0"
      },
      "outputs": [
        {
          "output_type": "stream",
          "name": "stdout",
          "text": [
            "Mounted at /content/drive\n"
          ]
        }
      ],
      "source": [
        "# Mounting Google Drive\n",
        "from google.colab import drive\n",
        "drive.mount('/content/drive')"
      ]
    },
    {
      "cell_type": "code",
      "execution_count": 3,
      "metadata": {
        "id": "3HnItOnpPkgs",
        "colab": {
          "resources": {
            "http://localhost:8080/nbextensions/google.colab/files.js": {
              "data": "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",
              "ok": true,
              "headers": [
                [
                  "content-type",
                  "application/javascript"
                ]
              ],
              "status": 200,
              "status_text": ""
            }
          },
          "base_uri": "https://localhost:8080/",
          "height": 73
        },
        "outputId": "d12b5e24-1f4b-4285-999c-53e063b03eb5"
      },
      "outputs": [
        {
          "output_type": "display_data",
          "data": {
            "text/plain": [
              "<IPython.core.display.HTML object>"
            ],
            "text/html": [
              "\n",
              "     <input type=\"file\" id=\"files-1d42205b-2a40-4416-92ca-0c7299b12c75\" name=\"files[]\" multiple disabled\n",
              "        style=\"border:none\" />\n",
              "     <output id=\"result-1d42205b-2a40-4416-92ca-0c7299b12c75\">\n",
              "      Upload widget is only available when the cell has been executed in the\n",
              "      current browser session. Please rerun this cell to enable.\n",
              "      </output>\n",
              "      <script src=\"/nbextensions/google.colab/files.js\"></script> "
            ]
          },
          "metadata": {}
        },
        {
          "output_type": "stream",
          "name": "stdout",
          "text": [
            "Saving Social_Network_Ads (1).csv to Social_Network_Ads (1) (1).csv\n"
          ]
        }
      ],
      "source": [
        "# importing Dataset from Local drive\n",
        "from google.colab import files\n",
        "Uploaded=files.upload()"
      ]
    },
    {
      "cell_type": "code",
      "execution_count": 5,
      "metadata": {
        "id": "uWaP03H3QYzq"
      },
      "outputs": [],
      "source": [
        "# Importing the dataset from Google Drive\n",
        "dataset = pd.read_csv('/content/Social_Network_Ads (1).csv')"
      ]
    },
    {
      "cell_type": "code",
      "execution_count": 6,
      "metadata": {
        "id": "nWZK_f-VaxXO",
        "colab": {
          "base_uri": "https://localhost:8080/"
        },
        "outputId": "29d998f5-d217-46ef-d4fd-435fd76952e8"
      },
      "outputs": [
        {
          "output_type": "stream",
          "name": "stdout",
          "text": [
            "      User ID  Gender  Age  EstimatedSalary  Purchased\n",
            "0    15624510    Male   19            19000          0\n",
            "1    15810944    Male   35            20000          0\n",
            "2    15668575  Female   26            43000          0\n",
            "3    15603246  Female   27            57000          0\n",
            "4    15804002    Male   19            76000          0\n",
            "..        ...     ...  ...              ...        ...\n",
            "395  15691863  Female   46            41000          1\n",
            "396  15706071    Male   51            23000          1\n",
            "397  15654296  Female   50            20000          1\n",
            "398  15755018    Male   36            33000          0\n",
            "399  15594041  Female   49            36000          1\n",
            "\n",
            "[400 rows x 5 columns]\n"
          ]
        }
      ],
      "source": [
        "print(dataset)"
      ]
    },
    {
      "cell_type": "code",
      "execution_count": 7,
      "metadata": {
        "id": "pgzbDOQnT1I9",
        "colab": {
          "base_uri": "https://localhost:8080/"
        },
        "outputId": "b6c99daa-ca15-4fce-cb99-cdd86f21d8ea"
      },
      "outputs": [
        {
          "output_type": "execute_result",
          "data": {
            "text/plain": [
              "User ID            0\n",
              "Gender             0\n",
              "Age                0\n",
              "EstimatedSalary    0\n",
              "Purchased          0\n",
              "dtype: int64"
            ]
          },
          "metadata": {},
          "execution_count": 7
        }
      ],
      "source": [
        "dataset.isnull().sum()"
      ]
    },
    {
      "cell_type": "code",
      "execution_count": 8,
      "metadata": {
        "id": "gOz0dtTyPRO0",
        "colab": {
          "base_uri": "https://localhost:8080/",
          "height": 300
        },
        "outputId": "bf72d16b-0b88-448d-9ac1-ca00fbe0016d"
      },
      "outputs": [
        {
          "output_type": "execute_result",
          "data": {
            "text/plain": [
              "            User ID         Age  EstimatedSalary   Purchased\n",
              "count  4.000000e+02  400.000000       400.000000  400.000000\n",
              "mean   1.569154e+07   37.655000     69742.500000    0.357500\n",
              "std    7.165832e+04   10.482877     34096.960282    0.479864\n",
              "min    1.556669e+07   18.000000     15000.000000    0.000000\n",
              "25%    1.562676e+07   29.750000     43000.000000    0.000000\n",
              "50%    1.569434e+07   37.000000     70000.000000    0.000000\n",
              "75%    1.575036e+07   46.000000     88000.000000    1.000000\n",
              "max    1.581524e+07   60.000000    150000.000000    1.000000"
            ],
            "text/html": [
              "\n",
              "  <div id=\"df-82dd73b5-81a7-4034-b3c1-3227dfbcc6cf\">\n",
              "    <div class=\"colab-df-container\">\n",
              "      <div>\n",
              "<style scoped>\n",
              "    .dataframe tbody tr th:only-of-type {\n",
              "        vertical-align: middle;\n",
              "    }\n",
              "\n",
              "    .dataframe tbody tr th {\n",
              "        vertical-align: top;\n",
              "    }\n",
              "\n",
              "    .dataframe thead th {\n",
              "        text-align: right;\n",
              "    }\n",
              "</style>\n",
              "<table border=\"1\" class=\"dataframe\">\n",
              "  <thead>\n",
              "    <tr style=\"text-align: right;\">\n",
              "      <th></th>\n",
              "      <th>User ID</th>\n",
              "      <th>Age</th>\n",
              "      <th>EstimatedSalary</th>\n",
              "      <th>Purchased</th>\n",
              "    </tr>\n",
              "  </thead>\n",
              "  <tbody>\n",
              "    <tr>\n",
              "      <th>count</th>\n",
              "      <td>4.000000e+02</td>\n",
              "      <td>400.000000</td>\n",
              "      <td>400.000000</td>\n",
              "      <td>400.000000</td>\n",
              "    </tr>\n",
              "    <tr>\n",
              "      <th>mean</th>\n",
              "      <td>1.569154e+07</td>\n",
              "      <td>37.655000</td>\n",
              "      <td>69742.500000</td>\n",
              "      <td>0.357500</td>\n",
              "    </tr>\n",
              "    <tr>\n",
              "      <th>std</th>\n",
              "      <td>7.165832e+04</td>\n",
              "      <td>10.482877</td>\n",
              "      <td>34096.960282</td>\n",
              "      <td>0.479864</td>\n",
              "    </tr>\n",
              "    <tr>\n",
              "      <th>min</th>\n",
              "      <td>1.556669e+07</td>\n",
              "      <td>18.000000</td>\n",
              "      <td>15000.000000</td>\n",
              "      <td>0.000000</td>\n",
              "    </tr>\n",
              "    <tr>\n",
              "      <th>25%</th>\n",
              "      <td>1.562676e+07</td>\n",
              "      <td>29.750000</td>\n",
              "      <td>43000.000000</td>\n",
              "      <td>0.000000</td>\n",
              "    </tr>\n",
              "    <tr>\n",
              "      <th>50%</th>\n",
              "      <td>1.569434e+07</td>\n",
              "      <td>37.000000</td>\n",
              "      <td>70000.000000</td>\n",
              "      <td>0.000000</td>\n",
              "    </tr>\n",
              "    <tr>\n",
              "      <th>75%</th>\n",
              "      <td>1.575036e+07</td>\n",
              "      <td>46.000000</td>\n",
              "      <td>88000.000000</td>\n",
              "      <td>1.000000</td>\n",
              "    </tr>\n",
              "    <tr>\n",
              "      <th>max</th>\n",
              "      <td>1.581524e+07</td>\n",
              "      <td>60.000000</td>\n",
              "      <td>150000.000000</td>\n",
              "      <td>1.000000</td>\n",
              "    </tr>\n",
              "  </tbody>\n",
              "</table>\n",
              "</div>\n",
              "      <button class=\"colab-df-convert\" onclick=\"convertToInteractive('df-82dd73b5-81a7-4034-b3c1-3227dfbcc6cf')\"\n",
              "              title=\"Convert this dataframe to an interactive table.\"\n",
              "              style=\"display:none;\">\n",
              "        \n",
              "  <svg xmlns=\"http://www.w3.org/2000/svg\" height=\"24px\"viewBox=\"0 0 24 24\"\n",
              "       width=\"24px\">\n",
              "    <path d=\"M0 0h24v24H0V0z\" fill=\"none\"/>\n",
              "    <path d=\"M18.56 5.44l.94 2.06.94-2.06 2.06-.94-2.06-.94-.94-2.06-.94 2.06-2.06.94zm-11 1L8.5 8.5l.94-2.06 2.06-.94-2.06-.94L8.5 2.5l-.94 2.06-2.06.94zm10 10l.94 2.06.94-2.06 2.06-.94-2.06-.94-.94-2.06-.94 2.06-2.06.94z\"/><path d=\"M17.41 7.96l-1.37-1.37c-.4-.4-.92-.59-1.43-.59-.52 0-1.04.2-1.43.59L10.3 9.45l-7.72 7.72c-.78.78-.78 2.05 0 2.83L4 21.41c.39.39.9.59 1.41.59.51 0 1.02-.2 1.41-.59l7.78-7.78 2.81-2.81c.8-.78.8-2.07 0-2.86zM5.41 20L4 18.59l7.72-7.72 1.47 1.35L5.41 20z\"/>\n",
              "  </svg>\n",
              "      </button>\n",
              "      \n",
              "  <style>\n",
              "    .colab-df-container {\n",
              "      display:flex;\n",
              "      flex-wrap:wrap;\n",
              "      gap: 12px;\n",
              "    }\n",
              "\n",
              "    .colab-df-convert {\n",
              "      background-color: #E8F0FE;\n",
              "      border: none;\n",
              "      border-radius: 50%;\n",
              "      cursor: pointer;\n",
              "      display: none;\n",
              "      fill: #1967D2;\n",
              "      height: 32px;\n",
              "      padding: 0 0 0 0;\n",
              "      width: 32px;\n",
              "    }\n",
              "\n",
              "    .colab-df-convert:hover {\n",
              "      background-color: #E2EBFA;\n",
              "      box-shadow: 0px 1px 2px rgba(60, 64, 67, 0.3), 0px 1px 3px 1px rgba(60, 64, 67, 0.15);\n",
              "      fill: #174EA6;\n",
              "    }\n",
              "\n",
              "    [theme=dark] .colab-df-convert {\n",
              "      background-color: #3B4455;\n",
              "      fill: #D2E3FC;\n",
              "    }\n",
              "\n",
              "    [theme=dark] .colab-df-convert:hover {\n",
              "      background-color: #434B5C;\n",
              "      box-shadow: 0px 1px 3px 1px rgba(0, 0, 0, 0.15);\n",
              "      filter: drop-shadow(0px 1px 2px rgba(0, 0, 0, 0.3));\n",
              "      fill: #FFFFFF;\n",
              "    }\n",
              "  </style>\n",
              "\n",
              "      <script>\n",
              "        const buttonEl =\n",
              "          document.querySelector('#df-82dd73b5-81a7-4034-b3c1-3227dfbcc6cf button.colab-df-convert');\n",
              "        buttonEl.style.display =\n",
              "          google.colab.kernel.accessAllowed ? 'block' : 'none';\n",
              "\n",
              "        async function convertToInteractive(key) {\n",
              "          const element = document.querySelector('#df-82dd73b5-81a7-4034-b3c1-3227dfbcc6cf');\n",
              "          const dataTable =\n",
              "            await google.colab.kernel.invokeFunction('convertToInteractive',\n",
              "                                                     [key], {});\n",
              "          if (!dataTable) return;\n",
              "\n",
              "          const docLinkHtml = 'Like what you see? Visit the ' +\n",
              "            '<a target=\"_blank\" href=https://colab.research.google.com/notebooks/data_table.ipynb>data table notebook</a>'\n",
              "            + ' to learn more about interactive tables.';\n",
              "          element.innerHTML = '';\n",
              "          dataTable['output_type'] = 'display_data';\n",
              "          await google.colab.output.renderOutput(dataTable, element);\n",
              "          const docLink = document.createElement('div');\n",
              "          docLink.innerHTML = docLinkHtml;\n",
              "          element.appendChild(docLink);\n",
              "        }\n",
              "      </script>\n",
              "    </div>\n",
              "  </div>\n",
              "  "
            ]
          },
          "metadata": {},
          "execution_count": 8
        }
      ],
      "source": [
        "dataset.describe()"
      ]
    },
    {
      "cell_type": "code",
      "execution_count": 9,
      "metadata": {
        "id": "tsRc4pHha9aC"
      },
      "outputs": [],
      "source": [
        "# Extracting dependent and independent variables:\n",
        "# Extracting independent variable:\n",
        "X = dataset.iloc[:, [1,2,3]].values\n",
        "# Extracting dependent variable:\n",
        "y = dataset.iloc[:, 4].values\n"
      ]
    },
    {
      "cell_type": "code",
      "execution_count": 10,
      "metadata": {
        "id": "VWqeqy-1bL4U",
        "colab": {
          "base_uri": "https://localhost:8080/"
        },
        "outputId": "7698f39b-de9f-435d-f9e9-14e5ed4790b4"
      },
      "outputs": [
        {
          "output_type": "stream",
          "name": "stdout",
          "text": [
            "[['Male' 19 19000]\n",
            " ['Male' 35 20000]\n",
            " ['Female' 26 43000]\n",
            " ...\n",
            " ['Female' 50 20000]\n",
            " ['Male' 36 33000]\n",
            " ['Female' 49 36000]]\n"
          ]
        }
      ],
      "source": [
        "print(X)"
      ]
    },
    {
      "cell_type": "code",
      "execution_count": 11,
      "metadata": {
        "id": "Z2H0MbXaediz"
      },
      "outputs": [],
      "source": [
        "# Encoding Categorical data:\n",
        "# Encoding the Independent Variable\n",
        "from sklearn.preprocessing import LabelEncoder\n",
        "labelencoder_X = LabelEncoder()\n",
        "X[:, 0] = labelencoder_X.fit_transform(X[:, 0])"
      ]
    },
    {
      "cell_type": "code",
      "execution_count": 12,
      "metadata": {
        "id": "OWbhrBypeyV1",
        "colab": {
          "base_uri": "https://localhost:8080/"
        },
        "outputId": "268f65d4-aa3e-4d00-ebf7-c1748ae81b06"
      },
      "outputs": [
        {
          "output_type": "stream",
          "name": "stdout",
          "text": [
            "[[1 19 19000]\n",
            " [1 35 20000]\n",
            " [0 26 43000]\n",
            " ...\n",
            " [0 50 20000]\n",
            " [1 36 33000]\n",
            " [0 49 36000]]\n"
          ]
        }
      ],
      "source": [
        "print(X)"
      ]
    },
    {
      "cell_type": "code",
      "execution_count": 13,
      "metadata": {
        "id": "KrRWpkzbbS4P",
        "colab": {
          "base_uri": "https://localhost:8080/"
        },
        "outputId": "f3660dc3-dafb-4ee9-f3c4-e704b5eac72b"
      },
      "outputs": [
        {
          "output_type": "stream",
          "name": "stdout",
          "text": [
            "[0 0 0 0 0 0 0 1 0 0 0 0 0 0 0 0 1 1 1 1 1 1 1 1 1 1 1 1 0 0 0 1 0 0 0 0 0\n",
            " 0 0 0 0 0 0 0 0 0 0 0 1 0 0 0 0 0 0 0 0 0 0 0 0 0 0 1 0 0 0 0 0 0 0 0 0 0\n",
            " 0 1 0 0 0 0 0 0 0 0 0 1 0 0 0 0 0 0 0 0 0 0 0 1 0 0 0 0 0 1 0 0 0 0 0 0 0\n",
            " 0 0 0 0 0 0 0 0 0 0 0 0 0 0 0 0 0 0 0 0 0 0 0 0 0 0 1 0 0 0 0 0 0 0 0 1 0\n",
            " 0 0 0 0 0 0 0 0 0 0 0 1 1 0 0 0 0 0 0 0 1 0 0 0 0 0 0 0 0 0 0 0 0 0 1 0 0\n",
            " 0 0 0 0 0 0 0 0 0 0 0 0 0 0 0 0 0 1 0 1 0 1 0 1 0 1 1 0 0 0 1 0 0 0 1 0 1\n",
            " 1 1 0 0 1 1 0 1 1 0 1 1 0 1 0 0 0 1 1 0 1 1 0 1 0 1 0 1 0 0 1 1 0 1 0 0 1\n",
            " 1 0 1 1 0 1 1 0 0 1 0 0 1 1 1 1 1 0 1 1 1 1 0 1 1 0 1 0 1 0 1 1 1 1 0 0 0\n",
            " 1 1 0 1 1 1 1 1 0 0 0 1 1 0 0 1 0 1 0 1 1 0 1 0 1 1 0 1 1 0 0 0 1 1 0 1 0\n",
            " 0 1 0 1 0 0 1 1 0 0 1 1 0 1 1 0 0 1 0 1 0 1 1 1 0 1 0 1 1 1 0 1 1 1 1 0 1\n",
            " 1 1 0 1 0 1 0 0 1 1 0 1 1 1 1 1 1 0 1 1 1 1 1 1 0 1 1 1 0 1]\n"
          ]
        }
      ],
      "source": [
        "print(y)"
      ]
    },
    {
      "cell_type": "code",
      "execution_count": 14,
      "metadata": {
        "id": "UzrhbKTfbgVL"
      },
      "outputs": [],
      "source": [
        "# Splitting the dataset into the Training set and Test set\n",
        "from sklearn.model_selection import train_test_split\n",
        "\n",
        "X_train, X_test, y_train, y_test = train_test_split(X, y, test_size = 0.25, random_state = 0)"
      ]
    },
    {
      "cell_type": "code",
      "execution_count": 15,
      "metadata": {
        "id": "7P72zs0Xbnqr",
        "colab": {
          "base_uri": "https://localhost:8080/"
        },
        "outputId": "06afeddf-f604-48ec-d22c-7de0a61861f4"
      },
      "outputs": [
        {
          "output_type": "stream",
          "name": "stdout",
          "text": [
            "[[0 44 39000]\n",
            " [1 32 120000]\n",
            " [0 38 50000]\n",
            " [0 32 135000]\n",
            " [0 52 21000]\n",
            " [0 53 104000]\n",
            " [1 39 42000]\n",
            " [1 38 61000]\n",
            " [0 36 50000]\n",
            " [0 36 63000]\n",
            " [0 35 25000]\n",
            " [1 35 50000]\n",
            " [1 42 73000]\n",
            " [0 47 49000]\n",
            " [0 59 29000]\n",
            " [1 49 65000]\n",
            " [0 45 131000]\n",
            " [0 31 89000]\n",
            " [0 46 82000]\n",
            " [0 47 51000]\n",
            " [1 26 15000]\n",
            " [1 60 102000]\n",
            " [0 38 112000]\n",
            " [1 40 107000]\n",
            " [0 42 53000]\n",
            " [1 35 59000]\n",
            " [1 48 41000]\n",
            " [0 48 134000]\n",
            " [0 38 113000]\n",
            " [1 29 148000]\n",
            " [0 26 15000]\n",
            " [1 60 42000]\n",
            " [1 24 19000]\n",
            " [1 42 149000]\n",
            " [0 46 96000]\n",
            " [1 28 59000]\n",
            " [1 39 96000]\n",
            " [1 28 89000]\n",
            " [1 41 72000]\n",
            " [1 45 26000]\n",
            " [0 33 69000]\n",
            " [0 20 82000]\n",
            " [1 31 74000]\n",
            " [1 42 80000]\n",
            " [0 35 72000]\n",
            " [0 33 149000]\n",
            " [1 40 71000]\n",
            " [0 51 146000]\n",
            " [1 46 79000]\n",
            " [1 35 75000]\n",
            " [1 38 51000]\n",
            " [0 36 75000]\n",
            " [0 37 78000]\n",
            " [1 38 61000]\n",
            " [0 60 108000]\n",
            " [0 20 82000]\n",
            " [1 57 74000]\n",
            " [1 42 65000]\n",
            " [1 26 80000]\n",
            " [1 46 117000]\n",
            " [1 35 61000]\n",
            " [0 21 68000]\n",
            " [0 28 44000]\n",
            " [1 41 87000]\n",
            " [0 37 33000]\n",
            " [1 27 90000]\n",
            " [1 39 42000]\n",
            " [1 28 123000]\n",
            " [0 31 118000]\n",
            " [1 25 87000]\n",
            " [0 35 71000]\n",
            " [1 37 70000]\n",
            " [1 35 39000]\n",
            " [1 47 23000]\n",
            " [0 35 147000]\n",
            " [0 48 138000]\n",
            " [1 26 86000]\n",
            " [1 25 79000]\n",
            " [0 52 138000]\n",
            " [1 51 23000]\n",
            " [0 35 60000]\n",
            " [0 33 113000]\n",
            " [1 30 107000]\n",
            " [1 48 33000]\n",
            " [0 41 80000]\n",
            " [0 48 96000]\n",
            " [1 31 18000]\n",
            " [0 31 71000]\n",
            " [1 43 129000]\n",
            " [0 59 76000]\n",
            " [0 18 44000]\n",
            " [1 36 118000]\n",
            " [0 42 90000]\n",
            " [0 47 30000]\n",
            " [0 26 43000]\n",
            " [1 40 78000]\n",
            " [1 46 59000]\n",
            " [0 59 42000]\n",
            " [0 46 74000]\n",
            " [1 35 91000]\n",
            " [0 28 59000]\n",
            " [1 40 57000]\n",
            " [1 59 143000]\n",
            " [0 57 26000]\n",
            " [0 52 38000]\n",
            " [0 47 113000]\n",
            " [0 53 143000]\n",
            " [1 35 27000]\n",
            " [0 58 101000]\n",
            " [0 45 45000]\n",
            " [0 23 82000]\n",
            " [1 46 23000]\n",
            " [1 42 65000]\n",
            " [0 28 84000]\n",
            " [1 38 59000]\n",
            " [0 26 84000]\n",
            " [0 29 28000]\n",
            " [0 37 71000]\n",
            " [0 22 55000]\n",
            " [0 48 35000]\n",
            " [1 49 28000]\n",
            " [0 38 65000]\n",
            " [0 27 17000]\n",
            " [1 46 28000]\n",
            " [1 48 141000]\n",
            " [0 26 17000]\n",
            " [0 35 97000]\n",
            " [0 39 59000]\n",
            " [0 24 27000]\n",
            " [1 32 18000]\n",
            " [1 46 88000]\n",
            " [1 35 58000]\n",
            " [1 56 60000]\n",
            " [1 47 34000]\n",
            " [0 40 72000]\n",
            " [1 32 100000]\n",
            " [0 19 21000]\n",
            " [1 25 90000]\n",
            " [1 35 88000]\n",
            " [1 28 32000]\n",
            " [0 50 20000]\n",
            " [1 40 59000]\n",
            " [0 50 44000]\n",
            " [1 35 72000]\n",
            " [0 40 142000]\n",
            " [0 46 32000]\n",
            " [0 39 71000]\n",
            " [1 20 74000]\n",
            " [1 29 75000]\n",
            " [1 31 76000]\n",
            " [1 47 25000]\n",
            " [1 40 61000]\n",
            " [1 34 112000]\n",
            " [0 38 80000]\n",
            " [0 42 75000]\n",
            " [0 47 47000]\n",
            " [0 39 75000]\n",
            " [1 19 25000]\n",
            " [0 37 80000]\n",
            " [1 36 60000]\n",
            " [1 41 52000]\n",
            " [1 36 125000]\n",
            " [0 48 29000]\n",
            " [0 36 126000]\n",
            " [0 51 134000]\n",
            " [0 27 57000]\n",
            " [1 38 71000]\n",
            " [0 39 61000]\n",
            " [0 22 27000]\n",
            " [0 33 60000]\n",
            " [1 48 74000]\n",
            " [0 58 23000]\n",
            " [1 53 72000]\n",
            " [0 32 117000]\n",
            " [1 54 70000]\n",
            " [1 30 80000]\n",
            " [0 58 95000]\n",
            " [0 26 52000]\n",
            " [1 45 79000]\n",
            " [1 24 55000]\n",
            " [1 40 75000]\n",
            " [0 33 28000]\n",
            " [0 44 139000]\n",
            " [1 22 18000]\n",
            " [0 33 51000]\n",
            " [0 43 133000]\n",
            " [0 24 32000]\n",
            " [0 46 22000]\n",
            " [1 35 55000]\n",
            " [0 54 104000]\n",
            " [0 48 119000]\n",
            " [1 35 53000]\n",
            " [1 37 144000]\n",
            " [0 23 66000]\n",
            " [0 37 137000]\n",
            " [1 31 58000]\n",
            " [0 33 41000]\n",
            " [0 45 22000]\n",
            " [1 30 15000]\n",
            " [1 19 19000]\n",
            " [1 49 74000]\n",
            " [1 39 122000]\n",
            " [1 35 73000]\n",
            " [1 39 71000]\n",
            " [1 24 23000]\n",
            " [0 41 72000]\n",
            " [0 29 83000]\n",
            " [0 54 26000]\n",
            " [0 35 44000]\n",
            " [1 37 75000]\n",
            " [0 29 47000]\n",
            " [0 31 68000]\n",
            " [1 42 54000]\n",
            " [1 30 135000]\n",
            " [0 52 114000]\n",
            " [0 50 36000]\n",
            " [1 56 133000]\n",
            " [1 29 61000]\n",
            " [1 30 89000]\n",
            " [1 26 16000]\n",
            " [1 33 31000]\n",
            " [0 41 72000]\n",
            " [1 36 33000]\n",
            " [0 55 125000]\n",
            " [0 48 131000]\n",
            " [0 41 71000]\n",
            " [0 30 62000]\n",
            " [1 37 72000]\n",
            " [0 41 63000]\n",
            " [0 58 47000]\n",
            " [0 30 116000]\n",
            " [1 20 49000]\n",
            " [1 37 74000]\n",
            " [1 41 59000]\n",
            " [1 49 89000]\n",
            " [1 28 79000]\n",
            " [0 53 82000]\n",
            " [1 40 57000]\n",
            " [1 60 34000]\n",
            " [1 35 108000]\n",
            " [1 21 72000]\n",
            " [1 38 71000]\n",
            " [1 39 106000]\n",
            " [0 37 57000]\n",
            " [0 26 72000]\n",
            " [0 35 23000]\n",
            " [0 54 108000]\n",
            " [1 30 17000]\n",
            " [1 39 134000]\n",
            " [1 29 43000]\n",
            " [1 33 43000]\n",
            " [1 35 38000]\n",
            " [1 41 45000]\n",
            " [0 41 72000]\n",
            " [0 39 134000]\n",
            " [0 27 137000]\n",
            " [0 21 16000]\n",
            " [1 26 32000]\n",
            " [1 31 66000]\n",
            " [0 39 73000]\n",
            " [1 41 79000]\n",
            " [0 47 50000]\n",
            " [0 41 30000]\n",
            " [0 37 93000]\n",
            " [0 60 46000]\n",
            " [1 25 22000]\n",
            " [0 28 37000]\n",
            " [0 38 55000]\n",
            " [0 36 54000]\n",
            " [0 20 36000]\n",
            " [0 56 104000]\n",
            " [1 40 57000]\n",
            " [0 42 108000]\n",
            " [0 20 23000]\n",
            " [1 40 65000]\n",
            " [1 47 20000]\n",
            " [0 18 86000]\n",
            " [1 35 79000]\n",
            " [0 57 33000]\n",
            " [0 34 72000]\n",
            " [0 49 39000]\n",
            " [0 27 31000]\n",
            " [1 19 70000]\n",
            " [0 39 79000]\n",
            " [1 26 81000]\n",
            " [1 25 80000]\n",
            " [0 28 85000]\n",
            " [1 55 39000]\n",
            " [0 50 88000]\n",
            " [1 49 88000]\n",
            " [1 52 150000]\n",
            " [0 35 65000]\n",
            " [1 42 54000]\n",
            " [1 34 43000]\n",
            " [1 37 52000]\n",
            " [0 48 30000]\n",
            " [1 29 43000]\n",
            " [1 36 52000]\n",
            " [0 27 54000]\n",
            " [0 26 118000]]\n"
          ]
        }
      ],
      "source": [
        "print(X_train)"
      ]
    },
    {
      "cell_type": "code",
      "execution_count": 16,
      "metadata": {
        "id": "MYY7nwKAbwIn",
        "colab": {
          "base_uri": "https://localhost:8080/"
        },
        "outputId": "ac30a94b-d9fd-407c-e1d9-c26ca1f592fd"
      },
      "outputs": [
        {
          "output_type": "stream",
          "name": "stdout",
          "text": [
            "[[1 30 87000]\n",
            " [0 38 50000]\n",
            " [1 35 75000]\n",
            " [0 30 79000]\n",
            " [0 35 50000]\n",
            " [1 27 20000]\n",
            " [0 31 15000]\n",
            " [1 36 144000]\n",
            " [0 18 68000]\n",
            " [1 47 43000]\n",
            " [1 30 49000]\n",
            " [0 28 55000]\n",
            " [1 37 55000]\n",
            " [1 39 77000]\n",
            " [1 20 86000]\n",
            " [0 32 117000]\n",
            " [1 37 77000]\n",
            " [1 19 85000]\n",
            " [0 55 130000]\n",
            " [1 35 22000]\n",
            " [0 35 47000]\n",
            " [0 47 144000]\n",
            " [0 41 51000]\n",
            " [1 47 105000]\n",
            " [0 23 28000]\n",
            " [0 49 141000]\n",
            " [0 28 87000]\n",
            " [1 29 80000]\n",
            " [0 37 62000]\n",
            " [0 32 86000]\n",
            " [1 21 88000]\n",
            " [1 37 79000]\n",
            " [1 57 60000]\n",
            " [1 37 53000]\n",
            " [1 24 58000]\n",
            " [1 18 52000]\n",
            " [1 22 81000]\n",
            " [0 34 43000]\n",
            " [0 31 34000]\n",
            " [0 49 36000]\n",
            " [1 27 88000]\n",
            " [1 41 52000]\n",
            " [0 27 84000]\n",
            " [1 35 20000]\n",
            " [0 43 112000]\n",
            " [0 27 58000]\n",
            " [0 37 80000]\n",
            " [0 52 90000]\n",
            " [1 26 30000]\n",
            " [1 49 86000]\n",
            " [0 57 122000]\n",
            " [0 34 25000]\n",
            " [0 35 57000]\n",
            " [1 34 115000]\n",
            " [0 59 88000]\n",
            " [1 45 32000]\n",
            " [0 29 83000]\n",
            " [0 26 80000]\n",
            " [1 49 28000]\n",
            " [1 23 20000]\n",
            " [1 32 18000]\n",
            " [1 60 42000]\n",
            " [1 19 76000]\n",
            " [1 36 99000]\n",
            " [0 19 26000]\n",
            " [1 60 83000]\n",
            " [0 24 89000]\n",
            " [1 27 58000]\n",
            " [1 40 47000]\n",
            " [0 42 70000]\n",
            " [0 32 150000]\n",
            " [0 35 77000]\n",
            " [0 22 63000]\n",
            " [1 45 22000]\n",
            " [1 27 89000]\n",
            " [1 18 82000]\n",
            " [0 42 79000]\n",
            " [0 40 60000]\n",
            " [0 53 34000]\n",
            " [0 47 107000]\n",
            " [1 58 144000]\n",
            " [0 59 83000]\n",
            " [0 24 55000]\n",
            " [0 26 35000]\n",
            " [0 58 38000]\n",
            " [0 42 80000]\n",
            " [0 40 75000]\n",
            " [1 59 130000]\n",
            " [0 46 41000]\n",
            " [0 41 60000]\n",
            " [1 42 64000]\n",
            " [0 37 146000]\n",
            " [0 23 48000]\n",
            " [1 25 33000]\n",
            " [1 24 84000]\n",
            " [0 27 96000]\n",
            " [1 23 63000]\n",
            " [1 48 33000]\n",
            " [1 48 90000]\n",
            " [1 42 104000]]\n"
          ]
        }
      ],
      "source": [
        "print(X_test)"
      ]
    },
    {
      "cell_type": "code",
      "execution_count": 17,
      "metadata": {
        "id": "4SE8ozd4b1Fg",
        "colab": {
          "base_uri": "https://localhost:8080/"
        },
        "outputId": "0d369011-4d26-4886-828e-3e4872471abf"
      },
      "outputs": [
        {
          "output_type": "stream",
          "name": "stdout",
          "text": [
            "[0 0 0 0 0 0 0 1 0 0 0 0 0 0 0 0 0 0 1 0 0 1 0 1 0 1 0 0 0 0 0 1 1 0 0 0 0\n",
            " 0 0 1 0 0 0 0 1 0 0 1 0 1 1 0 0 0 1 1 0 0 1 0 0 1 0 1 0 1 0 0 0 0 1 0 0 1\n",
            " 0 0 0 0 1 1 1 0 0 0 1 1 0 1 1 0 0 1 0 0 0 1 0 1 1 1]\n"
          ]
        }
      ],
      "source": [
        "print(y_test)"
      ]
    },
    {
      "cell_type": "code",
      "execution_count": 18,
      "metadata": {
        "id": "zSCby589b4kz",
        "colab": {
          "base_uri": "https://localhost:8080/"
        },
        "outputId": "fde53fa3-0f96-4bb3-d73c-7032b98fb1c8"
      },
      "outputs": [
        {
          "output_type": "stream",
          "name": "stdout",
          "text": [
            "[0 1 0 1 1 1 0 0 0 0 0 0 1 1 1 0 1 0 0 1 0 1 0 1 0 0 1 1 1 1 0 1 0 1 0 0 1\n",
            " 0 0 1 0 0 0 0 0 1 1 1 1 0 0 0 1 0 1 0 1 0 0 1 0 0 0 1 0 0 0 1 1 0 0 1 0 1\n",
            " 1 1 0 0 1 1 0 0 1 1 0 1 0 0 1 1 0 1 1 1 0 0 0 0 0 1 0 0 1 1 1 1 1 0 1 1 0\n",
            " 1 0 0 0 0 0 0 0 1 1 0 0 1 0 0 1 0 0 0 1 0 1 1 0 1 0 0 0 0 1 0 0 0 1 1 0 0\n",
            " 0 0 1 0 1 0 0 0 1 0 0 0 0 1 1 1 0 0 0 0 0 0 1 1 1 1 1 0 1 0 0 0 0 0 1 0 0\n",
            " 0 0 0 0 1 1 0 1 0 1 0 0 1 0 0 0 1 0 0 0 0 0 1 0 0 0 0 0 1 0 1 1 0 0 0 0 0\n",
            " 0 1 1 0 0 0 0 1 0 0 0 0 1 0 1 0 1 0 0 0 1 0 0 0 1 0 1 0 0 0 0 0 1 1 0 0 0\n",
            " 0 0 1 0 1 1 0 0 0 0 0 1 0 1 0 0 1 0 0 1 0 1 0 0 0 0 0 0 1 1 1 1 0 0 0 0 1\n",
            " 0 0 0 0]\n"
          ]
        }
      ],
      "source": [
        "print(y_train)"
      ]
    },
    {
      "cell_type": "code",
      "execution_count": 19,
      "metadata": {
        "id": "6NqiYuyCRsDR"
      },
      "outputs": [],
      "source": [
        "# Feature Scaling\n",
        "from sklearn.preprocessing import StandardScaler\n",
        "sc = StandardScaler()\n",
        "X_train = sc.fit_transform(X_train)\n",
        "X_test = sc.transform(X_test)"
      ]
    },
    {
      "cell_type": "code",
      "execution_count": 20,
      "metadata": {
        "id": "ug2tODW9sjF2",
        "colab": {
          "base_uri": "https://localhost:8080/"
        },
        "outputId": "b34c5ab2-4534-41ba-e96c-1591f66d81f6"
      },
      "outputs": [
        {
          "output_type": "stream",
          "name": "stdout",
          "text": [
            "[[-0.98019606  0.58164944 -0.88670699]\n",
            " [ 1.02020406 -0.60673761  1.46173768]\n",
            " [-0.98019606 -0.01254409 -0.5677824 ]\n",
            " [-0.98019606 -0.60673761  1.89663484]\n",
            " [-0.98019606  1.37390747 -1.40858358]\n",
            " [-0.98019606  1.47293972  0.99784738]\n",
            " [ 1.02020406  0.08648817 -0.79972756]\n",
            " [ 1.02020406 -0.01254409 -0.24885782]\n",
            " [-0.98019606 -0.21060859 -0.5677824 ]\n",
            " [-0.98019606 -0.21060859 -0.19087153]\n",
            " [-0.98019606 -0.30964085 -1.29261101]\n",
            " [ 1.02020406 -0.30964085 -0.5677824 ]\n",
            " [ 1.02020406  0.38358493  0.09905991]\n",
            " [-0.98019606  0.8787462  -0.59677555]\n",
            " [-0.98019606  2.06713324 -1.17663843]\n",
            " [ 1.02020406  1.07681071 -0.13288524]\n",
            " [-0.98019606  0.68068169  1.78066227]\n",
            " [-0.98019606 -0.70576986  0.56295021]\n",
            " [-0.98019606  0.77971394  0.35999821]\n",
            " [-0.98019606  0.8787462  -0.53878926]\n",
            " [ 1.02020406 -1.20093113 -1.58254245]\n",
            " [ 1.02020406  2.1661655   0.93986109]\n",
            " [-0.98019606 -0.01254409  1.22979253]\n",
            " [ 1.02020406  0.18552042  1.08482681]\n",
            " [-0.98019606  0.38358493 -0.48080297]\n",
            " [ 1.02020406 -0.30964085 -0.30684411]\n",
            " [ 1.02020406  0.97777845 -0.8287207 ]\n",
            " [-0.98019606  0.97777845  1.8676417 ]\n",
            " [-0.98019606 -0.01254409  1.25878567]\n",
            " [ 1.02020406 -0.90383437  2.27354572]\n",
            " [-0.98019606 -1.20093113 -1.58254245]\n",
            " [ 1.02020406  2.1661655  -0.79972756]\n",
            " [ 1.02020406 -1.39899564 -1.46656987]\n",
            " [ 1.02020406  0.38358493  2.30253886]\n",
            " [-0.98019606  0.77971394  0.76590222]\n",
            " [ 1.02020406 -1.00286662 -0.30684411]\n",
            " [ 1.02020406  0.08648817  0.76590222]\n",
            " [ 1.02020406 -1.00286662  0.56295021]\n",
            " [ 1.02020406  0.28455268  0.07006676]\n",
            " [ 1.02020406  0.68068169 -1.26361786]\n",
            " [-0.98019606 -0.50770535 -0.01691267]\n",
            " [-0.98019606 -1.79512465  0.35999821]\n",
            " [ 1.02020406 -0.70576986  0.12805305]\n",
            " [ 1.02020406  0.38358493  0.30201192]\n",
            " [-0.98019606 -0.30964085  0.07006676]\n",
            " [-0.98019606 -0.50770535  2.30253886]\n",
            " [ 1.02020406  0.18552042  0.04107362]\n",
            " [-0.98019606  1.27487521  2.21555943]\n",
            " [ 1.02020406  0.77971394  0.27301877]\n",
            " [ 1.02020406 -0.30964085  0.1570462 ]\n",
            " [ 1.02020406 -0.01254409 -0.53878926]\n",
            " [-0.98019606 -0.21060859  0.1570462 ]\n",
            " [-0.98019606 -0.11157634  0.24402563]\n",
            " [ 1.02020406 -0.01254409 -0.24885782]\n",
            " [-0.98019606  2.1661655   1.11381995]\n",
            " [-0.98019606 -1.79512465  0.35999821]\n",
            " [ 1.02020406  1.86906873  0.12805305]\n",
            " [ 1.02020406  0.38358493 -0.13288524]\n",
            " [ 1.02020406 -1.20093113  0.30201192]\n",
            " [ 1.02020406  0.77971394  1.37475825]\n",
            " [ 1.02020406 -0.30964085 -0.24885782]\n",
            " [-0.98019606 -1.6960924  -0.04590581]\n",
            " [-0.98019606 -1.00286662 -0.74174127]\n",
            " [ 1.02020406  0.28455268  0.50496393]\n",
            " [-0.98019606 -0.11157634 -1.06066585]\n",
            " [ 1.02020406 -1.10189888  0.59194336]\n",
            " [ 1.02020406  0.08648817 -0.79972756]\n",
            " [ 1.02020406 -1.00286662  1.54871711]\n",
            " [-0.98019606 -0.70576986  1.40375139]\n",
            " [ 1.02020406 -1.29996338  0.50496393]\n",
            " [-0.98019606 -0.30964085  0.04107362]\n",
            " [ 1.02020406 -0.11157634  0.01208048]\n",
            " [ 1.02020406 -0.30964085 -0.88670699]\n",
            " [ 1.02020406  0.8787462  -1.3505973 ]\n",
            " [-0.98019606 -0.30964085  2.24455257]\n",
            " [-0.98019606  0.97777845  1.98361427]\n",
            " [ 1.02020406 -1.20093113  0.47597078]\n",
            " [ 1.02020406 -1.29996338  0.27301877]\n",
            " [-0.98019606  1.37390747  1.98361427]\n",
            " [ 1.02020406  1.27487521 -1.3505973 ]\n",
            " [-0.98019606 -0.30964085 -0.27785096]\n",
            " [-0.98019606 -0.50770535  1.25878567]\n",
            " [ 1.02020406 -0.80480212  1.08482681]\n",
            " [ 1.02020406  0.97777845 -1.06066585]\n",
            " [-0.98019606  0.28455268  0.30201192]\n",
            " [-0.98019606  0.97777845  0.76590222]\n",
            " [ 1.02020406 -0.70576986 -1.49556302]\n",
            " [-0.98019606 -0.70576986  0.04107362]\n",
            " [ 1.02020406  0.48261718  1.72267598]\n",
            " [-0.98019606  2.06713324  0.18603934]\n",
            " [-0.98019606 -1.99318916 -0.74174127]\n",
            " [ 1.02020406 -0.21060859  1.40375139]\n",
            " [-0.98019606  0.38358493  0.59194336]\n",
            " [-0.98019606  0.8787462  -1.14764529]\n",
            " [-0.98019606 -1.20093113 -0.77073441]\n",
            " [ 1.02020406  0.18552042  0.24402563]\n",
            " [ 1.02020406  0.77971394 -0.30684411]\n",
            " [-0.98019606  2.06713324 -0.79972756]\n",
            " [-0.98019606  0.77971394  0.12805305]\n",
            " [ 1.02020406 -0.30964085  0.6209365 ]\n",
            " [-0.98019606 -1.00286662 -0.30684411]\n",
            " [ 1.02020406  0.18552042 -0.3648304 ]\n",
            " [ 1.02020406  2.06713324  2.12857999]\n",
            " [-0.98019606  1.86906873 -1.26361786]\n",
            " [-0.98019606  1.37390747 -0.91570013]\n",
            " [-0.98019606  0.8787462   1.25878567]\n",
            " [-0.98019606  1.47293972  2.12857999]\n",
            " [ 1.02020406 -0.30964085 -1.23462472]\n",
            " [-0.98019606  1.96810099  0.91086794]\n",
            " [-0.98019606  0.68068169 -0.71274813]\n",
            " [-0.98019606 -1.49802789  0.35999821]\n",
            " [ 1.02020406  0.77971394 -1.3505973 ]\n",
            " [ 1.02020406  0.38358493 -0.13288524]\n",
            " [-0.98019606 -1.00286662  0.41798449]\n",
            " [ 1.02020406 -0.01254409 -0.30684411]\n",
            " [-0.98019606 -1.20093113  0.41798449]\n",
            " [-0.98019606 -0.90383437 -1.20563157]\n",
            " [-0.98019606 -0.11157634  0.04107362]\n",
            " [-0.98019606 -1.59706014 -0.42281668]\n",
            " [-0.98019606  0.97777845 -1.00267957]\n",
            " [ 1.02020406  1.07681071 -1.20563157]\n",
            " [-0.98019606 -0.01254409 -0.13288524]\n",
            " [-0.98019606 -1.10189888 -1.52455616]\n",
            " [ 1.02020406  0.77971394 -1.20563157]\n",
            " [ 1.02020406  0.97777845  2.07059371]\n",
            " [-0.98019606 -1.20093113 -1.52455616]\n",
            " [-0.98019606 -0.30964085  0.79489537]\n",
            " [-0.98019606  0.08648817 -0.30684411]\n",
            " [-0.98019606 -1.39899564 -1.23462472]\n",
            " [ 1.02020406 -0.60673761 -1.49556302]\n",
            " [ 1.02020406  0.77971394  0.53395707]\n",
            " [ 1.02020406 -0.30964085 -0.33583725]\n",
            " [ 1.02020406  1.77003648 -0.27785096]\n",
            " [ 1.02020406  0.8787462  -1.03167271]\n",
            " [-0.98019606  0.18552042  0.07006676]\n",
            " [ 1.02020406 -0.60673761  0.8818748 ]\n",
            " [-0.98019606 -1.89415691 -1.40858358]\n",
            " [ 1.02020406 -1.29996338  0.59194336]\n",
            " [ 1.02020406 -0.30964085  0.53395707]\n",
            " [ 1.02020406 -1.00286662 -1.089659  ]\n",
            " [-0.98019606  1.17584296 -1.43757673]\n",
            " [ 1.02020406  0.18552042 -0.30684411]\n",
            " [-0.98019606  1.17584296 -0.74174127]\n",
            " [ 1.02020406 -0.30964085  0.07006676]\n",
            " [-0.98019606  0.18552042  2.09958685]\n",
            " [-0.98019606  0.77971394 -1.089659  ]\n",
            " [-0.98019606  0.08648817  0.04107362]\n",
            " [ 1.02020406 -1.79512465  0.12805305]\n",
            " [ 1.02020406 -0.90383437  0.1570462 ]\n",
            " [ 1.02020406 -0.70576986  0.18603934]\n",
            " [ 1.02020406  0.8787462  -1.29261101]\n",
            " [ 1.02020406  0.18552042 -0.24885782]\n",
            " [ 1.02020406 -0.4086731   1.22979253]\n",
            " [-0.98019606 -0.01254409  0.30201192]\n",
            " [-0.98019606  0.38358493  0.1570462 ]\n",
            " [-0.98019606  0.8787462  -0.65476184]\n",
            " [-0.98019606  0.08648817  0.1570462 ]\n",
            " [ 1.02020406 -1.89415691 -1.29261101]\n",
            " [-0.98019606 -0.11157634  0.30201192]\n",
            " [ 1.02020406 -0.21060859 -0.27785096]\n",
            " [ 1.02020406  0.28455268 -0.50979612]\n",
            " [ 1.02020406 -0.21060859  1.6067034 ]\n",
            " [-0.98019606  0.97777845 -1.17663843]\n",
            " [-0.98019606 -0.21060859  1.63569655]\n",
            " [-0.98019606  1.27487521  1.8676417 ]\n",
            " [-0.98019606 -1.10189888 -0.3648304 ]\n",
            " [ 1.02020406 -0.01254409  0.04107362]\n",
            " [-0.98019606  0.08648817 -0.24885782]\n",
            " [-0.98019606 -1.59706014 -1.23462472]\n",
            " [-0.98019606 -0.50770535 -0.27785096]\n",
            " [ 1.02020406  0.97777845  0.12805305]\n",
            " [-0.98019606  1.96810099 -1.3505973 ]\n",
            " [ 1.02020406  1.47293972  0.07006676]\n",
            " [-0.98019606 -0.60673761  1.37475825]\n",
            " [ 1.02020406  1.57197197  0.01208048]\n",
            " [ 1.02020406 -0.80480212  0.30201192]\n",
            " [-0.98019606  1.96810099  0.73690908]\n",
            " [-0.98019606 -1.20093113 -0.50979612]\n",
            " [ 1.02020406  0.68068169  0.27301877]\n",
            " [ 1.02020406 -1.39899564 -0.42281668]\n",
            " [ 1.02020406  0.18552042  0.1570462 ]\n",
            " [-0.98019606 -0.50770535 -1.20563157]\n",
            " [-0.98019606  0.58164944  2.01260742]\n",
            " [ 1.02020406 -1.59706014 -1.49556302]\n",
            " [-0.98019606 -0.50770535 -0.53878926]\n",
            " [-0.98019606  0.48261718  1.83864855]\n",
            " [-0.98019606 -1.39899564 -1.089659  ]\n",
            " [-0.98019606  0.77971394 -1.37959044]\n",
            " [ 1.02020406 -0.30964085 -0.42281668]\n",
            " [-0.98019606  1.57197197  0.99784738]\n",
            " [-0.98019606  0.97777845  1.43274454]\n",
            " [ 1.02020406 -0.30964085 -0.48080297]\n",
            " [ 1.02020406 -0.11157634  2.15757314]\n",
            " [-0.98019606 -1.49802789 -0.1038921 ]\n",
            " [-0.98019606 -0.11157634  1.95462113]\n",
            " [ 1.02020406 -0.70576986 -0.33583725]\n",
            " [-0.98019606 -0.50770535 -0.8287207 ]\n",
            " [-0.98019606  0.68068169 -1.37959044]\n",
            " [ 1.02020406 -0.80480212 -1.58254245]\n",
            " [ 1.02020406 -1.89415691 -1.46656987]\n",
            " [ 1.02020406  1.07681071  0.12805305]\n",
            " [ 1.02020406  0.08648817  1.51972397]\n",
            " [ 1.02020406 -0.30964085  0.09905991]\n",
            " [ 1.02020406  0.08648817  0.04107362]\n",
            " [ 1.02020406 -1.39899564 -1.3505973 ]\n",
            " [-0.98019606  0.28455268  0.07006676]\n",
            " [-0.98019606 -0.90383437  0.38899135]\n",
            " [-0.98019606  1.57197197 -1.26361786]\n",
            " [-0.98019606 -0.30964085 -0.74174127]\n",
            " [ 1.02020406 -0.11157634  0.1570462 ]\n",
            " [-0.98019606 -0.90383437 -0.65476184]\n",
            " [-0.98019606 -0.70576986 -0.04590581]\n",
            " [ 1.02020406  0.38358493 -0.45180983]\n",
            " [ 1.02020406 -0.80480212  1.89663484]\n",
            " [-0.98019606  1.37390747  1.28777882]\n",
            " [-0.98019606  1.17584296 -0.97368642]\n",
            " [ 1.02020406  1.77003648  1.83864855]\n",
            " [ 1.02020406 -0.90383437 -0.24885782]\n",
            " [ 1.02020406 -0.80480212  0.56295021]\n",
            " [ 1.02020406 -1.20093113 -1.5535493 ]\n",
            " [ 1.02020406 -0.50770535 -1.11865214]\n",
            " [-0.98019606  0.28455268  0.07006676]\n",
            " [ 1.02020406 -0.21060859 -1.06066585]\n",
            " [-0.98019606  1.67100423  1.6067034 ]\n",
            " [-0.98019606  0.97777845  1.78066227]\n",
            " [-0.98019606  0.28455268  0.04107362]\n",
            " [-0.98019606 -0.80480212 -0.21986468]\n",
            " [ 1.02020406 -0.11157634  0.07006676]\n",
            " [-0.98019606  0.28455268 -0.19087153]\n",
            " [-0.98019606  1.96810099 -0.65476184]\n",
            " [-0.98019606 -0.80480212  1.3457651 ]\n",
            " [ 1.02020406 -1.79512465 -0.59677555]\n",
            " [ 1.02020406 -0.11157634  0.12805305]\n",
            " [ 1.02020406  0.28455268 -0.30684411]\n",
            " [ 1.02020406  1.07681071  0.56295021]\n",
            " [ 1.02020406 -1.00286662  0.27301877]\n",
            " [-0.98019606  1.47293972  0.35999821]\n",
            " [ 1.02020406  0.18552042 -0.3648304 ]\n",
            " [ 1.02020406  2.1661655  -1.03167271]\n",
            " [ 1.02020406 -0.30964085  1.11381995]\n",
            " [ 1.02020406 -1.6960924   0.07006676]\n",
            " [ 1.02020406 -0.01254409  0.04107362]\n",
            " [ 1.02020406  0.08648817  1.05583366]\n",
            " [-0.98019606 -0.11157634 -0.3648304 ]\n",
            " [-0.98019606 -1.20093113  0.07006676]\n",
            " [-0.98019606 -0.30964085 -1.3505973 ]\n",
            " [-0.98019606  1.57197197  1.11381995]\n",
            " [ 1.02020406 -0.80480212 -1.52455616]\n",
            " [ 1.02020406  0.08648817  1.8676417 ]\n",
            " [ 1.02020406 -0.90383437 -0.77073441]\n",
            " [ 1.02020406 -0.50770535 -0.77073441]\n",
            " [ 1.02020406 -0.30964085 -0.91570013]\n",
            " [ 1.02020406  0.28455268 -0.71274813]\n",
            " [-0.98019606  0.28455268  0.07006676]\n",
            " [-0.98019606  0.08648817  1.8676417 ]\n",
            " [-0.98019606 -1.10189888  1.95462113]\n",
            " [-0.98019606 -1.6960924  -1.5535493 ]\n",
            " [ 1.02020406 -1.20093113 -1.089659  ]\n",
            " [ 1.02020406 -0.70576986 -0.1038921 ]\n",
            " [-0.98019606  0.08648817  0.09905991]\n",
            " [ 1.02020406  0.28455268  0.27301877]\n",
            " [-0.98019606  0.8787462  -0.5677824 ]\n",
            " [-0.98019606  0.28455268 -1.14764529]\n",
            " [-0.98019606 -0.11157634  0.67892279]\n",
            " [-0.98019606  2.1661655  -0.68375498]\n",
            " [ 1.02020406 -1.29996338 -1.37959044]\n",
            " [-0.98019606 -1.00286662 -0.94469328]\n",
            " [-0.98019606 -0.01254409 -0.42281668]\n",
            " [-0.98019606 -0.21060859 -0.45180983]\n",
            " [-0.98019606 -1.79512465 -0.97368642]\n",
            " [-0.98019606  1.77003648  0.99784738]\n",
            " [ 1.02020406  0.18552042 -0.3648304 ]\n",
            " [-0.98019606  0.38358493  1.11381995]\n",
            " [-0.98019606 -1.79512465 -1.3505973 ]\n",
            " [ 1.02020406  0.18552042 -0.13288524]\n",
            " [ 1.02020406  0.8787462  -1.43757673]\n",
            " [-0.98019606 -1.99318916  0.47597078]\n",
            " [ 1.02020406 -0.30964085  0.27301877]\n",
            " [-0.98019606  1.86906873 -1.06066585]\n",
            " [-0.98019606 -0.4086731   0.07006676]\n",
            " [-0.98019606  1.07681071 -0.88670699]\n",
            " [-0.98019606 -1.10189888 -1.11865214]\n",
            " [ 1.02020406 -1.89415691  0.01208048]\n",
            " [-0.98019606  0.08648817  0.27301877]\n",
            " [ 1.02020406 -1.20093113  0.33100506]\n",
            " [ 1.02020406 -1.29996338  0.30201192]\n",
            " [-0.98019606 -1.00286662  0.44697764]\n",
            " [ 1.02020406  1.67100423 -0.88670699]\n",
            " [-0.98019606  1.17584296  0.53395707]\n",
            " [ 1.02020406  1.07681071  0.53395707]\n",
            " [ 1.02020406  1.37390747  2.331532  ]\n",
            " [-0.98019606 -0.30964085 -0.13288524]\n",
            " [ 1.02020406  0.38358493 -0.45180983]\n",
            " [ 1.02020406 -0.4086731  -0.77073441]\n",
            " [ 1.02020406 -0.11157634 -0.50979612]\n",
            " [-0.98019606  0.97777845 -1.14764529]\n",
            " [ 1.02020406 -0.90383437 -0.77073441]\n",
            " [ 1.02020406 -0.21060859 -0.50979612]\n",
            " [-0.98019606 -1.10189888 -0.45180983]\n",
            " [-0.98019606 -1.20093113  1.40375139]]\n"
          ]
        }
      ],
      "source": [
        "print(X_train)"
      ]
    },
    {
      "cell_type": "code",
      "execution_count": 21,
      "metadata": {
        "id": "aF6idxZb9EtE",
        "colab": {
          "base_uri": "https://localhost:8080/"
        },
        "outputId": "6b310ae1-d023-480c-c8c7-58e15182ee22"
      },
      "outputs": [
        {
          "output_type": "execute_result",
          "data": {
            "text/plain": [
              "LogisticRegression(random_state=0)"
            ]
          },
          "metadata": {},
          "execution_count": 21
        }
      ],
      "source": [
        "from sklearn.linear_model  import LogisticRegression\n",
        "classifier = LogisticRegression(random_state=0)\n",
        "classifier.fit(X_train, y_train)\n",
        "\n"
      ]
    },
    {
      "cell_type": "code",
      "execution_count": 22,
      "metadata": {
        "id": "Ax2tc-DC9ePa",
        "colab": {
          "base_uri": "https://localhost:8080/"
        },
        "outputId": "d89e416f-76d4-48be-9e76-4e2d009fcc77"
      },
      "outputs": [
        {
          "output_type": "execute_result",
          "data": {
            "text/plain": [
              "array([0, 0, 0, 0, 0, 0, 0, 1, 0, 1, 0, 0, 0, 0, 0, 0, 0, 0, 1, 0, 0, 1,\n",
              "       0, 1, 0, 1, 0, 0, 0, 0, 0, 0, 1, 0, 0, 0, 0, 0, 0, 1, 0, 0, 0, 0,\n",
              "       1, 0, 0, 1, 0, 1, 1, 0, 0, 0, 1, 0, 0, 0, 1, 0, 0, 1, 0, 0, 0, 1,\n",
              "       0, 0, 0, 0, 1, 0, 0, 0, 0, 0, 1, 0, 1, 1, 1, 1, 0, 0, 1, 1, 0, 1,\n",
              "       0, 0, 0, 1, 0, 0, 0, 0, 0, 0, 1, 1])"
            ]
          },
          "metadata": {},
          "execution_count": 22
        }
      ],
      "source": [
        "# Predicting the Test set results\n",
        "y_pred = classifier.predict(X_test)\n",
        "y_pred"
      ]
    },
    {
      "cell_type": "code",
      "execution_count": 23,
      "metadata": {
        "id": "fapkzgOR9oFV",
        "colab": {
          "base_uri": "https://localhost:8080/"
        },
        "outputId": "31a92d0c-f404-4a7d-ce87-a72f6334bfee"
      },
      "outputs": [
        {
          "output_type": "stream",
          "name": "stdout",
          "text": [
            "Confusion matrix: \n",
            "[[65  3]\n",
            " [ 7 25]]\n"
          ]
        }
      ],
      "source": [
        "# Making the Confusion Matrix\n",
        "from sklearn.metrics import confusion_matrix\n",
        "cm = confusion_matrix(y_test, y_pred)\n",
        "print('Confusion matrix: ')\n",
        "print(cm)"
      ]
    },
    {
      "cell_type": "code",
      "execution_count": 24,
      "metadata": {
        "id": "THlm7D1z-Jux",
        "colab": {
          "base_uri": "https://localhost:8080/"
        },
        "outputId": "f35a9fd4-6233-42e3-a5d4-d3ab5c791e79"
      },
      "outputs": [
        {
          "output_type": "stream",
          "name": "stdout",
          "text": [
            "Accuracy: 90.00\n"
          ]
        }
      ],
      "source": [
        "# calculate Accuracy\n",
        "#               Y_pred\n",
        "#             0       1\n",
        "#          0[64     4(FP)]  Type 1 Error\n",
        "# y-test   1[4(FN)     28]  Type 2 Error\n",
        "\n",
        "from sklearn.metrics import accuracy_score\n",
        "print('Accuracy: %.2f' % (accuracy_score(y_test, y_pred)*100))"
      ]
    },
    {
      "cell_type": "code",
      "execution_count": 25,
      "metadata": {
        "id": "nquS3pa4-lOH",
        "colab": {
          "base_uri": "https://localhost:8080/"
        },
        "outputId": "fa9dbbff-6e38-4a81-86fb-f3cd00955582"
      },
      "outputs": [
        {
          "output_type": "stream",
          "name": "stdout",
          "text": [
            "Precision: 89.286\n"
          ]
        }
      ],
      "source": [
        "from sklearn.metrics import precision_score\n",
        "from sklearn.metrics import recall_score\n",
        "from sklearn.metrics import f1_score\n",
        "# calculate precision\n",
        "# Precision = TruePositives / (TruePositives + FalsePositives)\n",
        "#               Y_pred\n",
        "#             0       1\n",
        "#          0[64     4(FP)]  Type 1 Error\n",
        "# y-test   1[4(FN)     28]  Type 2 Error\n",
        "precision = precision_score(y_test, y_pred, average='binary')\n",
        "print('Precision: %.3f' % (precision*100))"
      ]
    },
    {
      "cell_type": "code",
      "execution_count": 26,
      "metadata": {
        "id": "1EcT47xu-sNJ",
        "colab": {
          "base_uri": "https://localhost:8080/"
        },
        "outputId": "41933d3c-73b1-4e29-b95d-43d6791ebf25"
      },
      "outputs": [
        {
          "output_type": "stream",
          "name": "stdout",
          "text": [
            "Recall: 78.125\n"
          ]
        }
      ],
      "source": [
        "# calculate recall\n",
        "# Recall = TruePositives / (TruePositives + FalseNegatives)\n",
        "#               Y_pred\n",
        "#             0       1\n",
        "#          0[64     4(FP)]  Type 1 Error\n",
        "# y-test   1[4(FN)     28]  Type 2 Error\n",
        "recall = recall_score(y_test, y_pred, average='binary')\n",
        "print('Recall: %.3f' % (recall*100))"
      ]
    },
    {
      "cell_type": "code",
      "execution_count": 27,
      "metadata": {
        "id": "82QxZrqD_At8",
        "colab": {
          "base_uri": "https://localhost:8080/"
        },
        "outputId": "4dea6b8d-a8ac-4211-b7d2-56da83e01bf2"
      },
      "outputs": [
        {
          "output_type": "stream",
          "name": "stdout",
          "text": [
            "F-Measure: 83.333\n"
          ]
        }
      ],
      "source": [
        "# F-Measure = (2 * Precision * Recall) / (Precision + Recall)\n",
        "# calculate score\n",
        "score = f1_score(y_test, y_pred, average='binary')\n",
        "print('F-Measure: %.3f' % (score*100))"
      ]
    },
    {
      "cell_type": "code",
      "execution_count": 28,
      "metadata": {
        "id": "p_lqiaGqJifQ",
        "colab": {
          "base_uri": "https://localhost:8080/"
        },
        "outputId": "8d2986fd-e352-4f5f-8e94-a65af4ae7f63"
      },
      "outputs": [
        {
          "output_type": "stream",
          "name": "stdout",
          "text": [
            "Purchased = [0]\n",
            "Customer will not purchase computer\n"
          ]
        }
      ],
      "source": [
        "age = 42 #@param {type:\"number\"}\n",
        "gender =  1#@param {type:\"number\"}\n",
        "Estimated_Salary = 1500 #@param {type:\"number\"}\n",
        "deepak =  2#@param {type:\"number\"}\n",
        "output=classifier.predict(sc.transform([[ gender,age ,Estimated_Salary ]]))\n",
        "print(\"Purchased =\", output)\n",
        "if output==[1]:\n",
        "  print( 'Custome will purchase Product')\n",
        "else:\n",
        "  print('Customer will not purchase computer')\n"
      ]
    },
    {
      "cell_type": "code",
      "execution_count": 29,
      "metadata": {
        "id": "-vO2PW75dT75",
        "colab": {
          "base_uri": "https://localhost:8080/"
        },
        "outputId": "097f5024-5c15-4553-c622-2eb91322dc30"
      },
      "outputs": [
        {
          "output_type": "execute_result",
          "data": {
            "text/plain": [
              "array([0, 0, 0, 0, 0, 0, 0, 1, 0, 1, 0, 0, 0, 0, 0, 0, 0, 0, 1, 0, 0, 1,\n",
              "       0, 1, 0, 1, 0, 0, 0, 0, 0, 0, 1, 0, 0, 0, 0, 0, 0, 1, 0, 0, 0, 0,\n",
              "       1, 0, 0, 1, 0, 1, 1, 0, 0, 0, 1, 0, 0, 0, 1, 0, 0, 1, 0, 0, 0, 1,\n",
              "       0, 0, 0, 0, 1, 0, 0, 0, 0, 0, 1, 0, 1, 1, 1, 1, 0, 0, 1, 1, 0, 1,\n",
              "       0, 0, 0, 1, 0, 0, 0, 0, 0, 0, 1, 1])"
            ]
          },
          "metadata": {},
          "execution_count": 29
        }
      ],
      "source": [
        "import pickle \n",
        "  \n",
        "# Save the trained model as a pickle string. \n",
        "saved_model = pickle.dumps(classifier) \n",
        "  \n",
        "# Load the pickled model \n",
        "model = pickle.loads(saved_model) \n",
        "  \n",
        "# Use the loaded pickled model to make predictions \n",
        "model.predict(X_test) "
      ]
    },
    {
      "cell_type": "code",
      "execution_count": 30,
      "metadata": {
        "id": "zX87_5gbfdTk",
        "colab": {
          "base_uri": "https://localhost:8080/"
        },
        "outputId": "5abe5439-652a-4dd9-f596-ace374186a61"
      },
      "outputs": [
        {
          "output_type": "stream",
          "name": "stdout",
          "text": [
            "0.9\n"
          ]
        }
      ],
      "source": [
        "# save the model to disk\n",
        "import joblib\n",
        "filename = '/content/Social_Network_Ads (1).sav'\n",
        "joblib.dump(classifier, filename)\n",
        " #-----------------------------------------------------------\n",
        "# some time later...\n",
        " \n",
        "# load the model from disk\n",
        "randomforest_model = joblib.load(filename)\n",
        "result = randomforest_model.score(X_test, y_test)\n",
        "print(result)"
      ]
    },
    {
      "cell_type": "code",
      "execution_count": 35,
      "metadata": {
        "id": "sBMUDE_ghTZw",
        "colab": {
          "base_uri": "https://localhost:8080/"
        },
        "outputId": "1eea7dad-576d-4ffc-e718-646843062c9e"
      },
      "outputs": [
        {
          "output_type": "stream",
          "name": "stdout",
          "text": [
            "[INFO] Saving model...\n"
          ]
        }
      ],
      "source": [
        "import pickle \n",
        "print(\"[INFO] Saving model...\")\n",
        "# Save the trained model as a pickle string. \n",
        "saved_model=pickle.dump(classifier,open('/content/Social_Network_Ads (1).pkl', 'wb')) \n",
        "# Saving model to disk"
      ]
    },
    {
      "cell_type": "code",
      "execution_count": 36,
      "metadata": {
        "id": "060HiAUjhVnF",
        "colab": {
          "base_uri": "https://localhost:8080/"
        },
        "outputId": "2c03d40a-1f4f-4cfa-ef23-b27f72b7a175"
      },
      "outputs": [
        {
          "output_type": "execute_result",
          "data": {
            "text/plain": [
              "array([0, 0, 0, 0, 0, 0, 0, 1, 0, 1, 0, 0, 0, 0, 0, 0, 0, 0, 1, 0, 0, 1,\n",
              "       0, 1, 0, 1, 0, 0, 0, 0, 0, 0, 1, 0, 0, 0, 0, 0, 0, 1, 0, 0, 0, 0,\n",
              "       1, 0, 0, 1, 0, 1, 1, 0, 0, 0, 1, 0, 0, 0, 1, 0, 0, 1, 0, 0, 0, 1,\n",
              "       0, 0, 0, 0, 1, 0, 0, 0, 0, 0, 1, 0, 1, 1, 1, 1, 0, 0, 1, 1, 0, 1,\n",
              "       0, 0, 0, 1, 0, 0, 0, 0, 0, 0, 1, 1])"
            ]
          },
          "metadata": {},
          "execution_count": 36
        }
      ],
      "source": [
        "# Load the pickled model \n",
        "model = pickle.load(open('/content/Social_Network_Ads (1).pkl', 'rb'))  \n",
        "# Use the loaded pickled model to make predictions \n",
        "model.predict(X_test)"
      ]
    },
    {
      "cell_type": "code",
      "execution_count": 37,
      "metadata": {
        "id": "VZKDmW2claqK",
        "colab": {
          "base_uri": "https://localhost:8080/"
        },
        "outputId": "b39c8d30-0dcb-4621-ca2a-2edff8cf1ae5"
      },
      "outputs": [
        {
          "output_type": "stream",
          "name": "stdout",
          "text": [
            "Drive already mounted at /content/drive; to attempt to forcibly remount, call drive.mount(\"/content/drive\", force_remount=True).\n"
          ]
        }
      ],
      "source": [
        "# Mounting Google Drive\n",
        "from google.colab import drive\n",
        "drive.mount('/content/drive')"
      ]
    },
    {
      "cell_type": "code",
      "execution_count": 38,
      "metadata": {
        "id": "9oO1wjRohYRE",
        "colab": {
          "base_uri": "https://localhost:8080/",
          "height": 1000
        },
        "outputId": "e9951d68-ea59-4b5b-c97f-ecb83c5fce6a"
      },
      "outputs": [
        {
          "output_type": "stream",
          "name": "stdout",
          "text": [
            "Collecting streamlit\n",
            "  Downloading streamlit-1.8.1-py2.py3-none-any.whl (10.1 MB)\n",
            "\u001b[K     |████████████████████████████████| 10.1 MB 29.9 MB/s \n",
            "\u001b[?25hRequirement already satisfied: altair>=3.2.0 in /usr/local/lib/python3.7/dist-packages (from streamlit) (4.2.0)\n",
            "Requirement already satisfied: python-dateutil in /usr/local/lib/python3.7/dist-packages (from streamlit) (2.8.2)\n",
            "Requirement already satisfied: numpy in /usr/local/lib/python3.7/dist-packages (from streamlit) (1.21.6)\n",
            "Requirement already satisfied: pillow>=6.2.0 in /usr/local/lib/python3.7/dist-packages (from streamlit) (7.1.2)\n",
            "Collecting toml\n",
            "  Downloading toml-0.10.2-py2.py3-none-any.whl (16 kB)\n",
            "Requirement already satisfied: requests in /usr/local/lib/python3.7/dist-packages (from streamlit) (2.23.0)\n",
            "Requirement already satisfied: importlib-metadata>=1.4 in /usr/local/lib/python3.7/dist-packages (from streamlit) (4.11.3)\n",
            "Requirement already satisfied: packaging in /usr/local/lib/python3.7/dist-packages (from streamlit) (21.3)\n",
            "Requirement already satisfied: tornado>=5.0 in /usr/local/lib/python3.7/dist-packages (from streamlit) (5.1.1)\n",
            "Requirement already satisfied: semver in /usr/local/lib/python3.7/dist-packages (from streamlit) (2.13.0)\n",
            "Requirement already satisfied: protobuf!=3.11,>=3.6.0 in /usr/local/lib/python3.7/dist-packages (from streamlit) (3.17.3)\n",
            "Collecting pympler>=0.9\n",
            "  Downloading Pympler-1.0.1-py3-none-any.whl (164 kB)\n",
            "\u001b[K     |████████████████████████████████| 164 kB 56.6 MB/s \n",
            "\u001b[?25hCollecting validators\n",
            "  Downloading validators-0.18.2-py3-none-any.whl (19 kB)\n",
            "Collecting gitpython!=3.1.19\n",
            "  Downloading GitPython-3.1.27-py3-none-any.whl (181 kB)\n",
            "\u001b[K     |████████████████████████████████| 181 kB 18.9 MB/s \n",
            "\u001b[?25hRequirement already satisfied: tzlocal in /usr/local/lib/python3.7/dist-packages (from streamlit) (1.5.1)\n",
            "Requirement already satisfied: pyarrow in /usr/local/lib/python3.7/dist-packages (from streamlit) (6.0.1)\n",
            "Collecting pydeck>=0.1.dev5\n",
            "  Downloading pydeck-0.7.1-py2.py3-none-any.whl (4.3 MB)\n",
            "\u001b[K     |████████████████████████████████| 4.3 MB 49.5 MB/s \n",
            "\u001b[?25hCollecting blinker\n",
            "  Downloading blinker-1.4.tar.gz (111 kB)\n",
            "\u001b[K     |████████████████████████████████| 111 kB 71.8 MB/s \n",
            "\u001b[?25hRequirement already satisfied: typing-extensions in /usr/local/lib/python3.7/dist-packages (from streamlit) (4.1.1)\n",
            "Requirement already satisfied: click<8.1,>=7.0 in /usr/local/lib/python3.7/dist-packages (from streamlit) (7.1.2)\n",
            "Requirement already satisfied: pandas>=0.21.0 in /usr/local/lib/python3.7/dist-packages (from streamlit) (1.3.5)\n",
            "Requirement already satisfied: cachetools>=4.0 in /usr/local/lib/python3.7/dist-packages (from streamlit) (4.2.4)\n",
            "Requirement already satisfied: attrs in /usr/local/lib/python3.7/dist-packages (from streamlit) (21.4.0)\n",
            "Collecting watchdog\n",
            "  Downloading watchdog-2.1.7-py3-none-manylinux2014_x86_64.whl (76 kB)\n",
            "\u001b[K     |████████████████████████████████| 76 kB 6.9 MB/s \n",
            "\u001b[?25hRequirement already satisfied: jsonschema>=3.0 in /usr/local/lib/python3.7/dist-packages (from altair>=3.2.0->streamlit) (4.3.3)\n",
            "Requirement already satisfied: entrypoints in /usr/local/lib/python3.7/dist-packages (from altair>=3.2.0->streamlit) (0.4)\n",
            "Requirement already satisfied: toolz in /usr/local/lib/python3.7/dist-packages (from altair>=3.2.0->streamlit) (0.11.2)\n",
            "Requirement already satisfied: jinja2 in /usr/local/lib/python3.7/dist-packages (from altair>=3.2.0->streamlit) (2.11.3)\n",
            "Collecting gitdb<5,>=4.0.1\n",
            "  Downloading gitdb-4.0.9-py3-none-any.whl (63 kB)\n",
            "\u001b[K     |████████████████████████████████| 63 kB 2.3 MB/s \n",
            "\u001b[?25hCollecting smmap<6,>=3.0.1\n",
            "  Downloading smmap-5.0.0-py3-none-any.whl (24 kB)\n",
            "Requirement already satisfied: zipp>=0.5 in /usr/local/lib/python3.7/dist-packages (from importlib-metadata>=1.4->streamlit) (3.8.0)\n",
            "Requirement already satisfied: importlib-resources>=1.4.0 in /usr/local/lib/python3.7/dist-packages (from jsonschema>=3.0->altair>=3.2.0->streamlit) (5.7.0)\n",
            "Requirement already satisfied: pyrsistent!=0.17.0,!=0.17.1,!=0.17.2,>=0.14.0 in /usr/local/lib/python3.7/dist-packages (from jsonschema>=3.0->altair>=3.2.0->streamlit) (0.18.1)\n",
            "Requirement already satisfied: pytz>=2017.3 in /usr/local/lib/python3.7/dist-packages (from pandas>=0.21.0->streamlit) (2022.1)\n",
            "Requirement already satisfied: six>=1.9 in /usr/local/lib/python3.7/dist-packages (from protobuf!=3.11,>=3.6.0->streamlit) (1.15.0)\n",
            "Requirement already satisfied: traitlets>=4.3.2 in /usr/local/lib/python3.7/dist-packages (from pydeck>=0.1.dev5->streamlit) (5.1.1)\n",
            "Collecting ipykernel>=5.1.2\n",
            "  Downloading ipykernel-6.13.0-py3-none-any.whl (131 kB)\n",
            "\u001b[K     |████████████████████████████████| 131 kB 77.9 MB/s \n",
            "\u001b[?25hRequirement already satisfied: ipywidgets>=7.0.0 in /usr/local/lib/python3.7/dist-packages (from pydeck>=0.1.dev5->streamlit) (7.7.0)\n",
            "Requirement already satisfied: nest-asyncio in /usr/local/lib/python3.7/dist-packages (from ipykernel>=5.1.2->pydeck>=0.1.dev5->streamlit) (1.5.5)\n",
            "Collecting tornado>=5.0\n",
            "  Downloading tornado-6.1-cp37-cp37m-manylinux2010_x86_64.whl (428 kB)\n",
            "\u001b[K     |████████████████████████████████| 428 kB 62.5 MB/s \n",
            "\u001b[?25hRequirement already satisfied: debugpy>=1.0 in /usr/local/lib/python3.7/dist-packages (from ipykernel>=5.1.2->pydeck>=0.1.dev5->streamlit) (1.0.0)\n",
            "Collecting jupyter-client>=6.1.12\n",
            "  Downloading jupyter_client-7.2.2-py3-none-any.whl (130 kB)\n",
            "\u001b[K     |████████████████████████████████| 130 kB 55.2 MB/s \n",
            "\u001b[?25hRequirement already satisfied: psutil in /usr/local/lib/python3.7/dist-packages (from ipykernel>=5.1.2->pydeck>=0.1.dev5->streamlit) (5.4.8)\n",
            "Requirement already satisfied: matplotlib-inline>=0.1 in /usr/local/lib/python3.7/dist-packages (from ipykernel>=5.1.2->pydeck>=0.1.dev5->streamlit) (0.1.3)\n",
            "Collecting ipython>=7.23.1\n",
            "  Downloading ipython-7.32.0-py3-none-any.whl (793 kB)\n",
            "\u001b[K     |████████████████████████████████| 793 kB 65.5 MB/s \n",
            "\u001b[?25hRequirement already satisfied: backcall in /usr/local/lib/python3.7/dist-packages (from ipython>=7.23.1->ipykernel>=5.1.2->pydeck>=0.1.dev5->streamlit) (0.2.0)\n",
            "Requirement already satisfied: decorator in /usr/local/lib/python3.7/dist-packages (from ipython>=7.23.1->ipykernel>=5.1.2->pydeck>=0.1.dev5->streamlit) (4.4.2)\n",
            "Requirement already satisfied: pygments in /usr/local/lib/python3.7/dist-packages (from ipython>=7.23.1->ipykernel>=5.1.2->pydeck>=0.1.dev5->streamlit) (2.6.1)\n",
            "Requirement already satisfied: pickleshare in /usr/local/lib/python3.7/dist-packages (from ipython>=7.23.1->ipykernel>=5.1.2->pydeck>=0.1.dev5->streamlit) (0.7.5)\n",
            "Requirement already satisfied: jedi>=0.16 in /usr/local/lib/python3.7/dist-packages (from ipython>=7.23.1->ipykernel>=5.1.2->pydeck>=0.1.dev5->streamlit) (0.18.1)\n",
            "Collecting prompt-toolkit!=3.0.0,!=3.0.1,<3.1.0,>=2.0.0\n",
            "  Downloading prompt_toolkit-3.0.29-py3-none-any.whl (381 kB)\n",
            "\u001b[K     |████████████████████████████████| 381 kB 67.4 MB/s \n",
            "\u001b[?25hRequirement already satisfied: pexpect>4.3 in /usr/local/lib/python3.7/dist-packages (from ipython>=7.23.1->ipykernel>=5.1.2->pydeck>=0.1.dev5->streamlit) (4.8.0)\n",
            "Requirement already satisfied: setuptools>=18.5 in /usr/local/lib/python3.7/dist-packages (from ipython>=7.23.1->ipykernel>=5.1.2->pydeck>=0.1.dev5->streamlit) (57.4.0)\n",
            "Requirement already satisfied: ipython-genutils~=0.2.0 in /usr/local/lib/python3.7/dist-packages (from ipywidgets>=7.0.0->pydeck>=0.1.dev5->streamlit) (0.2.0)\n",
            "Requirement already satisfied: jupyterlab-widgets>=1.0.0 in /usr/local/lib/python3.7/dist-packages (from ipywidgets>=7.0.0->pydeck>=0.1.dev5->streamlit) (1.1.0)\n",
            "Requirement already satisfied: widgetsnbextension~=3.6.0 in /usr/local/lib/python3.7/dist-packages (from ipywidgets>=7.0.0->pydeck>=0.1.dev5->streamlit) (3.6.0)\n",
            "Requirement already satisfied: nbformat>=4.2.0 in /usr/local/lib/python3.7/dist-packages (from ipywidgets>=7.0.0->pydeck>=0.1.dev5->streamlit) (5.3.0)\n",
            "Requirement already satisfied: parso<0.9.0,>=0.8.0 in /usr/local/lib/python3.7/dist-packages (from jedi>=0.16->ipython>=7.23.1->ipykernel>=5.1.2->pydeck>=0.1.dev5->streamlit) (0.8.3)\n",
            "Requirement already satisfied: MarkupSafe>=0.23 in /usr/local/lib/python3.7/dist-packages (from jinja2->altair>=3.2.0->streamlit) (2.0.1)\n",
            "Requirement already satisfied: pyzmq>=22.3 in /usr/local/lib/python3.7/dist-packages (from jupyter-client>=6.1.12->ipykernel>=5.1.2->pydeck>=0.1.dev5->streamlit) (22.3.0)\n",
            "Requirement already satisfied: jupyter-core>=4.9.2 in /usr/local/lib/python3.7/dist-packages (from jupyter-client>=6.1.12->ipykernel>=5.1.2->pydeck>=0.1.dev5->streamlit) (4.9.2)\n",
            "Requirement already satisfied: fastjsonschema in /usr/local/lib/python3.7/dist-packages (from nbformat>=4.2.0->ipywidgets>=7.0.0->pydeck>=0.1.dev5->streamlit) (2.15.3)\n",
            "Requirement already satisfied: ptyprocess>=0.5 in /usr/local/lib/python3.7/dist-packages (from pexpect>4.3->ipython>=7.23.1->ipykernel>=5.1.2->pydeck>=0.1.dev5->streamlit) (0.7.0)\n",
            "Requirement already satisfied: wcwidth in /usr/local/lib/python3.7/dist-packages (from prompt-toolkit!=3.0.0,!=3.0.1,<3.1.0,>=2.0.0->ipython>=7.23.1->ipykernel>=5.1.2->pydeck>=0.1.dev5->streamlit) (0.2.5)\n",
            "Requirement already satisfied: notebook>=4.4.1 in /usr/local/lib/python3.7/dist-packages (from widgetsnbextension~=3.6.0->ipywidgets>=7.0.0->pydeck>=0.1.dev5->streamlit) (5.3.1)\n",
            "Requirement already satisfied: nbconvert in /usr/local/lib/python3.7/dist-packages (from notebook>=4.4.1->widgetsnbextension~=3.6.0->ipywidgets>=7.0.0->pydeck>=0.1.dev5->streamlit) (5.6.1)\n",
            "Requirement already satisfied: Send2Trash in /usr/local/lib/python3.7/dist-packages (from notebook>=4.4.1->widgetsnbextension~=3.6.0->ipywidgets>=7.0.0->pydeck>=0.1.dev5->streamlit) (1.8.0)\n",
            "Requirement already satisfied: terminado>=0.8.1 in /usr/local/lib/python3.7/dist-packages (from notebook>=4.4.1->widgetsnbextension~=3.6.0->ipywidgets>=7.0.0->pydeck>=0.1.dev5->streamlit) (0.13.3)\n",
            "Requirement already satisfied: pandocfilters>=1.4.1 in /usr/local/lib/python3.7/dist-packages (from nbconvert->notebook>=4.4.1->widgetsnbextension~=3.6.0->ipywidgets>=7.0.0->pydeck>=0.1.dev5->streamlit) (1.5.0)\n",
            "Requirement already satisfied: testpath in /usr/local/lib/python3.7/dist-packages (from nbconvert->notebook>=4.4.1->widgetsnbextension~=3.6.0->ipywidgets>=7.0.0->pydeck>=0.1.dev5->streamlit) (0.6.0)\n",
            "Requirement already satisfied: mistune<2,>=0.8.1 in /usr/local/lib/python3.7/dist-packages (from nbconvert->notebook>=4.4.1->widgetsnbextension~=3.6.0->ipywidgets>=7.0.0->pydeck>=0.1.dev5->streamlit) (0.8.4)\n",
            "Requirement already satisfied: bleach in /usr/local/lib/python3.7/dist-packages (from nbconvert->notebook>=4.4.1->widgetsnbextension~=3.6.0->ipywidgets>=7.0.0->pydeck>=0.1.dev5->streamlit) (5.0.0)\n",
            "Requirement already satisfied: defusedxml in /usr/local/lib/python3.7/dist-packages (from nbconvert->notebook>=4.4.1->widgetsnbextension~=3.6.0->ipywidgets>=7.0.0->pydeck>=0.1.dev5->streamlit) (0.7.1)\n",
            "Requirement already satisfied: webencodings in /usr/local/lib/python3.7/dist-packages (from bleach->nbconvert->notebook>=4.4.1->widgetsnbextension~=3.6.0->ipywidgets>=7.0.0->pydeck>=0.1.dev5->streamlit) (0.5.1)\n",
            "Requirement already satisfied: pyparsing!=3.0.5,>=2.0.2 in /usr/local/lib/python3.7/dist-packages (from packaging->streamlit) (3.0.8)\n",
            "Requirement already satisfied: certifi>=2017.4.17 in /usr/local/lib/python3.7/dist-packages (from requests->streamlit) (2021.10.8)\n",
            "Requirement already satisfied: urllib3!=1.25.0,!=1.25.1,<1.26,>=1.21.1 in /usr/local/lib/python3.7/dist-packages (from requests->streamlit) (1.24.3)\n",
            "Requirement already satisfied: chardet<4,>=3.0.2 in /usr/local/lib/python3.7/dist-packages (from requests->streamlit) (3.0.4)\n",
            "Requirement already satisfied: idna<3,>=2.5 in /usr/local/lib/python3.7/dist-packages (from requests->streamlit) (2.10)\n",
            "Building wheels for collected packages: blinker\n",
            "  Building wheel for blinker (setup.py) ... \u001b[?25l\u001b[?25hdone\n",
            "  Created wheel for blinker: filename=blinker-1.4-py3-none-any.whl size=13478 sha256=2e4d979f17fd67a28a63f414e2cb8af50cc1b2645077f973d79bebaa10e81c06\n",
            "  Stored in directory: /root/.cache/pip/wheels/22/f5/18/df711b66eb25b21325c132757d4314db9ac5e8dabeaf196eab\n",
            "Successfully built blinker\n",
            "Installing collected packages: tornado, prompt-toolkit, jupyter-client, ipython, ipykernel, smmap, gitdb, watchdog, validators, toml, pympler, pydeck, gitpython, blinker, streamlit\n",
            "  Attempting uninstall: tornado\n",
            "    Found existing installation: tornado 5.1.1\n",
            "    Uninstalling tornado-5.1.1:\n",
            "      Successfully uninstalled tornado-5.1.1\n",
            "  Attempting uninstall: prompt-toolkit\n",
            "    Found existing installation: prompt-toolkit 1.0.18\n",
            "    Uninstalling prompt-toolkit-1.0.18:\n",
            "      Successfully uninstalled prompt-toolkit-1.0.18\n",
            "  Attempting uninstall: jupyter-client\n",
            "    Found existing installation: jupyter-client 5.3.5\n",
            "    Uninstalling jupyter-client-5.3.5:\n",
            "      Successfully uninstalled jupyter-client-5.3.5\n",
            "  Attempting uninstall: ipython\n",
            "    Found existing installation: ipython 5.5.0\n",
            "    Uninstalling ipython-5.5.0:\n",
            "      Successfully uninstalled ipython-5.5.0\n",
            "  Attempting uninstall: ipykernel\n",
            "    Found existing installation: ipykernel 4.10.1\n",
            "    Uninstalling ipykernel-4.10.1:\n",
            "      Successfully uninstalled ipykernel-4.10.1\n",
            "\u001b[31mERROR: pip's dependency resolver does not currently take into account all the packages that are installed. This behaviour is the source of the following dependency conflicts.\n",
            "jupyter-console 5.2.0 requires prompt-toolkit<2.0.0,>=1.0.0, but you have prompt-toolkit 3.0.29 which is incompatible.\n",
            "google-colab 1.0.0 requires ipykernel~=4.10, but you have ipykernel 6.13.0 which is incompatible.\n",
            "google-colab 1.0.0 requires ipython~=5.5.0, but you have ipython 7.32.0 which is incompatible.\n",
            "google-colab 1.0.0 requires tornado~=5.1.0; python_version >= \"3.0\", but you have tornado 6.1 which is incompatible.\u001b[0m\n",
            "Successfully installed blinker-1.4 gitdb-4.0.9 gitpython-3.1.27 ipykernel-6.13.0 ipython-7.32.0 jupyter-client-7.2.2 prompt-toolkit-3.0.29 pydeck-0.7.1 pympler-1.0.1 smmap-5.0.0 streamlit-1.8.1 toml-0.10.2 tornado-6.1 validators-0.18.2 watchdog-2.1.7\n"
          ]
        },
        {
          "output_type": "display_data",
          "data": {
            "application/vnd.colab-display-data+json": {
              "pip_warning": {
                "packages": [
                  "IPython",
                  "ipykernel",
                  "jupyter_client",
                  "prompt_toolkit",
                  "tornado"
                ]
              }
            }
          },
          "metadata": {}
        }
      ],
      "source": [
        "!pip install streamlit"
      ]
    },
    {
      "cell_type": "code",
      "execution_count": 39,
      "metadata": {
        "id": "fpyHbde3hbT7",
        "colab": {
          "base_uri": "https://localhost:8080/"
        },
        "outputId": "93b93cd5-a8da-4d6f-ef12-ad9e833a75de"
      },
      "outputs": [
        {
          "output_type": "stream",
          "name": "stdout",
          "text": [
            "Drive already mounted at /content/drive; to attempt to forcibly remount, call drive.mount(\"/content/drive\", force_remount=True).\n"
          ]
        }
      ],
      "source": [
        "# Mounting Google Drive\n",
        "from google.colab import drive\n",
        "drive.mount('/content/drive')"
      ]
    },
    {
      "cell_type": "code",
      "execution_count": 40,
      "metadata": {
        "id": "wxoltxrHhdVD",
        "colab": {
          "base_uri": "https://localhost:8080/"
        },
        "outputId": "4048f8ed-bf32-495a-aa0a-74779c1ad896"
      },
      "outputs": [
        {
          "output_type": "stream",
          "name": "stdout",
          "text": [
            "Collecting pyngrok\n",
            "  Downloading pyngrok-5.1.0.tar.gz (745 kB)\n",
            "\u001b[?25l\r\u001b[K     |▍                               | 10 kB 27.4 MB/s eta 0:00:01\r\u001b[K     |▉                               | 20 kB 27.3 MB/s eta 0:00:01\r\u001b[K     |█▎                              | 30 kB 31.0 MB/s eta 0:00:01\r\u001b[K     |█▊                              | 40 kB 24.3 MB/s eta 0:00:01\r\u001b[K     |██▏                             | 51 kB 17.6 MB/s eta 0:00:01\r\u001b[K     |██▋                             | 61 kB 19.9 MB/s eta 0:00:01\r\u001b[K     |███                             | 71 kB 19.0 MB/s eta 0:00:01\r\u001b[K     |███▌                            | 81 kB 6.1 MB/s eta 0:00:01\r\u001b[K     |████                            | 92 kB 6.8 MB/s eta 0:00:01\r\u001b[K     |████▍                           | 102 kB 7.4 MB/s eta 0:00:01\r\u001b[K     |████▉                           | 112 kB 7.4 MB/s eta 0:00:01\r\u001b[K     |█████▎                          | 122 kB 7.4 MB/s eta 0:00:01\r\u001b[K     |█████▊                          | 133 kB 7.4 MB/s eta 0:00:01\r\u001b[K     |██████▏                         | 143 kB 7.4 MB/s eta 0:00:01\r\u001b[K     |██████▋                         | 153 kB 7.4 MB/s eta 0:00:01\r\u001b[K     |███████                         | 163 kB 7.4 MB/s eta 0:00:01\r\u001b[K     |███████▌                        | 174 kB 7.4 MB/s eta 0:00:01\r\u001b[K     |████████                        | 184 kB 7.4 MB/s eta 0:00:01\r\u001b[K     |████████▍                       | 194 kB 7.4 MB/s eta 0:00:01\r\u001b[K     |████████▉                       | 204 kB 7.4 MB/s eta 0:00:01\r\u001b[K     |█████████▎                      | 215 kB 7.4 MB/s eta 0:00:01\r\u001b[K     |█████████▊                      | 225 kB 7.4 MB/s eta 0:00:01\r\u001b[K     |██████████▏                     | 235 kB 7.4 MB/s eta 0:00:01\r\u001b[K     |██████████▌                     | 245 kB 7.4 MB/s eta 0:00:01\r\u001b[K     |███████████                     | 256 kB 7.4 MB/s eta 0:00:01\r\u001b[K     |███████████▍                    | 266 kB 7.4 MB/s eta 0:00:01\r\u001b[K     |███████████▉                    | 276 kB 7.4 MB/s eta 0:00:01\r\u001b[K     |████████████▎                   | 286 kB 7.4 MB/s eta 0:00:01\r\u001b[K     |████████████▊                   | 296 kB 7.4 MB/s eta 0:00:01\r\u001b[K     |█████████████▏                  | 307 kB 7.4 MB/s eta 0:00:01\r\u001b[K     |█████████████▋                  | 317 kB 7.4 MB/s eta 0:00:01\r\u001b[K     |██████████████                  | 327 kB 7.4 MB/s eta 0:00:01\r\u001b[K     |██████████████▌                 | 337 kB 7.4 MB/s eta 0:00:01\r\u001b[K     |███████████████                 | 348 kB 7.4 MB/s eta 0:00:01\r\u001b[K     |███████████████▍                | 358 kB 7.4 MB/s eta 0:00:01\r\u001b[K     |███████████████▉                | 368 kB 7.4 MB/s eta 0:00:01\r\u001b[K     |████████████████▎               | 378 kB 7.4 MB/s eta 0:00:01\r\u001b[K     |████████████████▊               | 389 kB 7.4 MB/s eta 0:00:01\r\u001b[K     |█████████████████▏              | 399 kB 7.4 MB/s eta 0:00:01\r\u001b[K     |█████████████████▋              | 409 kB 7.4 MB/s eta 0:00:01\r\u001b[K     |██████████████████              | 419 kB 7.4 MB/s eta 0:00:01\r\u001b[K     |██████████████████▌             | 430 kB 7.4 MB/s eta 0:00:01\r\u001b[K     |███████████████████             | 440 kB 7.4 MB/s eta 0:00:01\r\u001b[K     |███████████████████▍            | 450 kB 7.4 MB/s eta 0:00:01\r\u001b[K     |███████████████████▉            | 460 kB 7.4 MB/s eta 0:00:01\r\u001b[K     |████████████████████▎           | 471 kB 7.4 MB/s eta 0:00:01\r\u001b[K     |████████████████████▋           | 481 kB 7.4 MB/s eta 0:00:01\r\u001b[K     |█████████████████████           | 491 kB 7.4 MB/s eta 0:00:01\r\u001b[K     |█████████████████████▌          | 501 kB 7.4 MB/s eta 0:00:01\r\u001b[K     |██████████████████████          | 512 kB 7.4 MB/s eta 0:00:01\r\u001b[K     |██████████████████████▍         | 522 kB 7.4 MB/s eta 0:00:01\r\u001b[K     |██████████████████████▉         | 532 kB 7.4 MB/s eta 0:00:01\r\u001b[K     |███████████████████████▎        | 542 kB 7.4 MB/s eta 0:00:01\r\u001b[K     |███████████████████████▊        | 552 kB 7.4 MB/s eta 0:00:01\r\u001b[K     |████████████████████████▏       | 563 kB 7.4 MB/s eta 0:00:01\r\u001b[K     |████████████████████████▋       | 573 kB 7.4 MB/s eta 0:00:01\r\u001b[K     |█████████████████████████       | 583 kB 7.4 MB/s eta 0:00:01\r\u001b[K     |█████████████████████████▌      | 593 kB 7.4 MB/s eta 0:00:01\r\u001b[K     |██████████████████████████      | 604 kB 7.4 MB/s eta 0:00:01\r\u001b[K     |██████████████████████████▍     | 614 kB 7.4 MB/s eta 0:00:01\r\u001b[K     |██████████████████████████▉     | 624 kB 7.4 MB/s eta 0:00:01\r\u001b[K     |███████████████████████████▎    | 634 kB 7.4 MB/s eta 0:00:01\r\u001b[K     |███████████████████████████▊    | 645 kB 7.4 MB/s eta 0:00:01\r\u001b[K     |████████████████████████████▏   | 655 kB 7.4 MB/s eta 0:00:01\r\u001b[K     |████████████████████████████▋   | 665 kB 7.4 MB/s eta 0:00:01\r\u001b[K     |█████████████████████████████   | 675 kB 7.4 MB/s eta 0:00:01\r\u001b[K     |█████████████████████████████▌  | 686 kB 7.4 MB/s eta 0:00:01\r\u001b[K     |██████████████████████████████  | 696 kB 7.4 MB/s eta 0:00:01\r\u001b[K     |██████████████████████████████▍ | 706 kB 7.4 MB/s eta 0:00:01\r\u001b[K     |██████████████████████████████▊ | 716 kB 7.4 MB/s eta 0:00:01\r\u001b[K     |███████████████████████████████▏| 727 kB 7.4 MB/s eta 0:00:01\r\u001b[K     |███████████████████████████████▋| 737 kB 7.4 MB/s eta 0:00:01\r\u001b[K     |████████████████████████████████| 745 kB 7.4 MB/s \n",
            "\u001b[?25hRequirement already satisfied: PyYAML in /usr/local/lib/python3.7/dist-packages (from pyngrok) (3.13)\n",
            "Building wheels for collected packages: pyngrok\n",
            "  Building wheel for pyngrok (setup.py) ... \u001b[?25l\u001b[?25hdone\n",
            "  Created wheel for pyngrok: filename=pyngrok-5.1.0-py3-none-any.whl size=19007 sha256=2bc276a969641d7d2ab8960a2ecf1806f8931f9ce8d968fa8922315fe1680e36\n",
            "  Stored in directory: /root/.cache/pip/wheels/bf/e6/af/ccf6598ecefecd44104069371795cb9b3afbcd16987f6ccfb3\n",
            "Successfully built pyngrok\n",
            "Installing collected packages: pyngrok\n",
            "Successfully installed pyngrok-5.1.0\n"
          ]
        }
      ],
      "source": [
        "!pip install pyngrok"
      ]
    },
    {
      "cell_type": "code",
      "execution_count": 41,
      "metadata": {
        "id": "5UtWV7BL_V9v",
        "colab": {
          "base_uri": "https://localhost:8080/"
        },
        "outputId": "1053a292-425d-40fe-8034-60e4f0087c0e"
      },
      "outputs": [
        {
          "output_type": "stream",
          "name": "stdout",
          "text": [
            "Authtoken saved to configuration file: /root/.ngrok2/ngrok.yml\n"
          ]
        }
      ],
      "source": [
        "!ngrok authtoken 24ustNzCIlDOkO3r5iUx6tCUolz_37zoKr3tq8hZAppzJxd95\n"
      ]
    },
    {
      "cell_type": "code",
      "execution_count": 47,
      "metadata": {
        "id": "2ZjIw4X0hjGd",
        "colab": {
          "base_uri": "https://localhost:8080/"
        },
        "outputId": "882cd688-37a3-4d10-ae40-de2ead985ac5"
      },
      "outputs": [
        {
          "output_type": "stream",
          "name": "stdout",
          "text": [
            "Overwriting app.py\n"
          ]
        }
      ],
      "source": [
        "%%writefile app.py\n",
        "import streamlit as st \n",
        "#from PIL import Image\n",
        "import pickle\n",
        "import numpy as np\n",
        "import matplotlib.pyplot as plt\n",
        "import pandas as pd\n",
        "st.set_option('deprecation.showfileUploaderEncoding', False)\n",
        "# Load the pickled model\n",
        "model = pickle.load(open('/content/Social_Network_Ads (1).pkl', 'rb')) \n",
        "# Feature Scaling\n",
        "dataset = pd.read_csv('/content/Social_Network_Ads (1).csv')\n",
        "# Extracting independent variable:\n",
        "X = dataset.iloc[:, [1,2,3]].values\n",
        "# Encoding the Independent Variable\n",
        "from sklearn.preprocessing import LabelEncoder\n",
        "labelencoder_X = LabelEncoder()\n",
        "X[:, 0] = labelencoder_X.fit_transform(X[:, 0])\n",
        "from sklearn.preprocessing import StandardScaler\n",
        "sc = StandardScaler()\n",
        "X = sc.fit_transform(X)\n",
        "def predict_note_authentication(UserID, Gender,Age,EstimatedSalary):\n",
        "  output= model.predict(sc.transform([[Gender,Age,EstimatedSalary]]))\n",
        "  print(\"Purchased\", output)\n",
        "  if output==[1]:\n",
        "    prediction=\"Item will be purchased\"\n",
        "  else:\n",
        "    prediction=\"Item will not be purchased\"\n",
        "  print(prediction)\n",
        "  return prediction\n",
        "def main():\n",
        "    \n",
        "    html_temp = \"\"\"\n",
        "   <div class=\"\" style=\"background-color:Brown;\" >\n",
        "   <div class=\"clearfix\">           \n",
        "   <div class=\"col-md-12\">\n",
        "   <center><p style=\"font-size:40px;color:black;margin-top:10px;\">Poornima Institute of Engineering & Technology</p></center> \n",
        "   <center><p style=\"font-size:30px;color:black;margin-top:10px;\">Department of Computer Engineering</p></center> \n",
        "   <center><p style=\"font-size:25px;color:black;margin-top:10px;\"Machine Learning Lab Experiment</p></center> \n",
        "   </div>\n",
        "   </div>\n",
        "   </div>\n",
        "   \"\"\"\n",
        "    st.markdown(html_temp,unsafe_allow_html=True)\n",
        "    st.header(\"Item Purchase Prediction using Logistic Classification\")\n",
        "    \n",
        "    UserID = st.text_input(\"UserID\",\"\")\n",
        "    \n",
        "    #Gender1 = st.select_slider('Select a Gender Male:1 Female:0',options=['1', '0'])\n",
        "    #Gender1 = st.number_input('Insert Gender Male:1 Female:0')\n",
        "    Gender1 = st.text_input('Insert Gender Male:1 Female:0')\n",
        "    Age = st.number_input('Insert a Age',18,60)\n",
        "   \n",
        "    EstimatedSalary = st.number_input(\"Insert Estimated Salary\",15000,150000)\n",
        "    resul=\"\"\n",
        "    if st.button(\"Predict\"):\n",
        "      result=predict_note_authentication(UserID, Gender1,Age,EstimatedSalary)\n",
        "      st.success('Model has predicted {}'.format(result))\n",
        "      \n",
        "    if st.button(\"About\"):\n",
        "      st.subheader(\"Developed by NIKITA KHANDAL\")\n",
        "      st.subheader(\"STUDENT , Department of Computer Engineering\")\n",
        "\n",
        "if __name__=='__main__':\n",
        "  main()"
      ]
    },
    {
      "cell_type": "code",
      "execution_count": 48,
      "metadata": {
        "id": "GxA0-3cZhlHV",
        "colab": {
          "base_uri": "https://localhost:8080/"
        },
        "outputId": "0446bc1e-7a88-44e3-a254-bdc072c28f86"
      },
      "outputs": [
        {
          "output_type": "stream",
          "name": "stdout",
          "text": [
            "nohup: appending output to 'nohup.out'\n"
          ]
        }
      ],
      "source": [
        "!nohup streamlit run  app.py &"
      ]
    },
    {
      "cell_type": "code",
      "execution_count": 49,
      "metadata": {
        "id": "EMuBGZJbhnFv",
        "colab": {
          "base_uri": "https://localhost:8080/"
        },
        "outputId": "d510af13-31af-40f8-ecc3-0cc3e43224ff"
      },
      "outputs": [
        {
          "output_type": "execute_result",
          "data": {
            "text/plain": [
              "<NgrokTunnel: \"http://bc1b-34-143-223-145.ngrok.io\" -> \"http://localhost:80\">"
            ]
          },
          "metadata": {},
          "execution_count": 49
        }
      ],
      "source": [
        "from pyngrok import ngrok\n",
        "url=ngrok.connect(port='8050')\n",
        "url"
      ]
    },
    {
      "cell_type": "code",
      "execution_count": null,
      "metadata": {
        "colab": {
          "base_uri": "https://localhost:8080/"
        },
        "id": "Pk41IR_AiGuI",
        "outputId": "ed94f546-5647-4d21-90b5-da134384a0c2"
      },
      "outputs": [
        {
          "output_type": "stream",
          "name": "stdout",
          "text": [
            "2022-04-23 06:16:44.824 INFO    numexpr.utils: NumExpr defaulting to 2 threads.\n",
            "\u001b[0m\n",
            "\u001b[34m\u001b[1m  You can now view your Streamlit app in your browser.\u001b[0m\n",
            "\u001b[0m\n",
            "\u001b[34m  Network URL: \u001b[0m\u001b[1mhttp://172.28.0.2:80\u001b[0m\n",
            "\u001b[34m  External URL: \u001b[0m\u001b[1mhttp://34.143.223.145:80\u001b[0m\n",
            "\u001b[0m\n"
          ]
        }
      ],
      "source": [
        "!streamlit run --server.port 80 app.py"
      ]
    },
    {
      "cell_type": "markdown",
      "metadata": {
        "id": "c0iD2TCJ9FaF"
      },
      "source": [
        ""
      ]
    },
    {
      "cell_type": "code",
      "execution_count": null,
      "metadata": {
        "colab": {
          "background_save": true
        },
        "id": "Ko_IQbUviJAf"
      },
      "outputs": [],
      "source": [
        "ngrok.kill()"
      ]
    },
    {
      "cell_type": "markdown",
      "metadata": {
        "id": "ZYJa0a_CiMbn"
      },
      "source": [
        "Model Deployment"
      ]
    },
    {
      "cell_type": "markdown",
      "metadata": {
        "id": "LbDcV8XZiPEW"
      },
      "source": [
        "Heroku has a pretty good free tier service, and lets you host up to 5 unverified apps at once (unverified means you haven’t given them a credit card), each with a custom domain."
      ]
    },
    {
      "cell_type": "markdown",
      "metadata": {
        "id": "yVzSlJnPiTV3"
      },
      "source": [
        "First you will need a requirements file that tells Heroku which Python libraries are required for your app, and which versions. The easiest way to generate this file is with the pipreqs library. You can install pipreqs with either pip or anaconda.\n",
        "\n",
        "Flask==1.1.1\n",
        "\n",
        "gunicorn==19.9.0\n",
        "\n",
        "itsdangerous==1.1.0\n",
        "\n",
        "Jinja2==2.10.1\n",
        "\n",
        "MarkupSafe==1.1.1\n",
        "\n",
        "Werkzeug==0.15.5\n",
        "\n",
        "numpy>=1.9.2\n",
        "\n",
        "scipy>=0.15.1\n",
        "\n",
        "scikit-learn==0.24.1\n",
        "\n",
        "matplotlib>=1.4.3\n",
        "\n",
        "pandas>=0.19\n",
        "\n",
        "streamlit"
      ]
    },
    {
      "cell_type": "markdown",
      "metadata": {
        "id": "p1tqRWxZifL1"
      },
      "source": [
        "Next you will need a bash script to configure Streamlit for use on Heroku. The file should be named “setup.sh” and should have the exact code below. You can edit the file in any text editor. Again, this needs to be in your project’s main directory.\n",
        "\n",
        "mkdir -p ~/.streamlit\n",
        "\n",
        "echo \"[server]\n",
        "\n",
        "headless = true\n",
        "\n",
        "port = $PORT\n",
        "\n",
        "enableCORS = false\n",
        "\n",
        "\" > ~/.streamlit/config.toml"
      ]
    },
    {
      "cell_type": "markdown",
      "metadata": {
        "id": "oZ7YitViii1f"
      },
      "source": [
        "Lastly, you need an odd file called a Procfile, which specifies the commands that are executed by the app on startup. It should be spelled exactly as “Procfile”, without any file extension, and should be in your project’s main directory. You can edit it with any text editor. Replace the last part of the code below with your Streamlit python script.\n",
        "\n",
        "web: sh setup.sh && streamlit run your-script.py"
      ]
    },
    {
      "cell_type": "markdown",
      "metadata": {
        "id": "ZyJ7TnkRilg9"
      },
      "source": [
        "Now all of the necessary files should be in your local repo: your python script (for Streamlit)\n",
        "\n",
        "Procfile\n",
        "\n",
        "setup.sh\n",
        "\n",
        "requirements.txt\n",
        "\n",
        "Any files that are read into the python script need to be in the directory as well.\n",
        "\n"
      ]
    }
  ],
  "metadata": {
    "accelerator": "GPU",
    "colab": {
      "collapsed_sections": [],
      "name": "LOGISTIC_REGRESSION",
      "provenance": [],
      "include_colab_link": true
    },
    "kernelspec": {
      "display_name": "Python 3",
      "name": "python3"
    }
  },
  "nbformat": 4,
  "nbformat_minor": 0
}